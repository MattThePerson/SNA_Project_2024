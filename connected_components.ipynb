{
 "cells": [
  {
   "cell_type": "code",
   "execution_count": 1,
   "metadata": {},
   "outputs": [],
   "source": [
    "# This notebook deals with creating an edgelist file containing all the edges in the nth largest\n",
    "# connected component of the large edgelist (600 million edges). It does not rely on NetworkX\n",
    "# or any other libraries other than Pandas to do this (since they are too computationally expensive)\n",
    "import pandas as pd\n",
    "import time"
   ]
  },
  {
   "cell_type": "code",
   "execution_count": 2,
   "metadata": {},
   "outputs": [],
   "source": [
    "class UnionFind:\n",
    "    def __init__(self, n):\n",
    "        self.parent = [i for i in range(n)]\n",
    "        self.rank = [0] * n\n",
    "        self.size = [1] * n\n",
    "\n",
    "    def find(self, u):\n",
    "        if self.parent[u] != u:\n",
    "            self.parent[u] = self.find(self.parent[u])\n",
    "        return self.parent[u]\n",
    "\n",
    "    def union(self, u, v):\n",
    "        pu, pv = self.find(u), self.find(v)\n",
    "        if pu == pv:\n",
    "            return\n",
    "        if self.rank[pu] < self.rank[pv]:\n",
    "            self.parent[pu] = pv\n",
    "            self.size[pv] += self.size[pu]\n",
    "        elif self.rank[pv] < self.rank[pu]:\n",
    "            self.parent[pv] = pu\n",
    "            self.size[pu] += self.size[pv]\n",
    "        else:\n",
    "            self.parent[pu] = pv\n",
    "            self.rank[pv] += 1\n",
    "            self.size[pv] += self.size[pu]"
   ]
  },
  {
   "cell_type": "code",
   "execution_count": 38,
   "metadata": {},
   "outputs": [],
   "source": [
    "def initialize_unionfind(edges):\n",
    "    print(\"Initializing UnionFind data structure ...\")\n",
    "    nodes = set(edges['source']).union(set(edges['target']))\n",
    "    node_index = {node: i for i, node in enumerate(nodes)}\n",
    "    n = len(nodes)\n",
    "    uf = UnionFind(n)\n",
    "    print(\"Computing union of all edges ...\")\n",
    "    for _, row in edges.iterrows():\n",
    "        uf.union(node_index[row['source']], node_index[row['target']])\n",
    "    print(\"Done.\")\n",
    "    return uf, node_index"
   ]
  },
  {
   "cell_type": "code",
   "execution_count": 71,
   "metadata": {},
   "outputs": [],
   "source": [
    "def get_connected_component(uf, node_index, n=0):\n",
    "    comps = {}\n",
    "    for node, i in node_index.items():\n",
    "        parent = uf.find(i)\n",
    "        comps[parent] = comps.get(parent, []) + [node]\n",
    "    if n >= len(comps):\n",
    "        return []\n",
    "    keys_sorted = sorted( comps.keys(), reverse=True, key=lambda parent: len(comps[parent]) )\n",
    "    return comps[keys_sorted[n]]"
   ]
  },
  {
   "cell_type": "code",
   "execution_count": 61,
   "metadata": {},
   "outputs": [],
   "source": [
    "def get_amount_of_components(uf, node_index):\n",
    "    # Count unique parents\n",
    "    unique_parents = set()\n",
    "    for i in range(len(node_index)):\n",
    "        unique_parents.add(uf.find(i))\n",
    "    return len(unique_parents)"
   ]
  },
  {
   "cell_type": "code",
   "execution_count": 4,
   "metadata": {},
   "outputs": [],
   "source": [
    "# Variables\n",
    "edges_fn = \"data/edges.csv\"\n",
    "edges_total = 684_732_453 # hardcoded"
   ]
  },
  {
   "cell_type": "code",
   "execution_count": 25,
   "metadata": {},
   "outputs": [
    {
     "name": "stdout",
     "output_type": "stream",
     "text": [
      "reading edges ... read 6_847_324 lines (took 2.1s)\n"
     ]
    }
   ],
   "source": [
    "# Read edge list to df\n",
    "perc = 1\n",
    "nrows=int(edges_total*perc/100)\n",
    "df = pd.read_csv(edges_fn, nrows=nrows)\n",
    "print(\"read {:_} lines\".format(len(df)))"
   ]
  },
  {
   "cell_type": "code",
   "execution_count": 41,
   "metadata": {},
   "outputs": [
    {
     "name": "stdout",
     "output_type": "stream",
     "text": [
      "Initializing UnionFind data structure ...\n",
      "Computing union of all edges ...\n",
      "Done.\n"
     ]
    }
   ],
   "source": [
    "# Initialize union find\n",
    "uf, node_index = initialize_unionfind(df)"
   ]
  },
  {
   "cell_type": "code",
   "execution_count": 72,
   "metadata": {},
   "outputs": [
    {
     "name": "stdout",
     "output_type": "stream",
     "text": [
      "Nodes in the 1 largest connected component: 12433\n",
      "Nodes in the 2 largest connected component: 221\n",
      "Nodes in the 3 largest connected component: 136\n",
      "Nodes in the 4 largest connected component: 36\n",
      "Nodes in the 5 largest connected component: 32\n",
      "Nodes in the 6 largest connected component: 18\n",
      "Nodes in the 7 largest connected component: 5\n"
     ]
    }
   ],
   "source": [
    "# Get nth largest connected component\n",
    "for i in range(get_amount_of_components(uf, node_index)):\n",
    "    component = get_connected_component(uf, node_index, i)\n",
    "    print(\"Nodes in the {} largest connected component: {}\".format(i+1, len(component) if component != None else None))"
   ]
  },
  {
   "cell_type": "code",
   "execution_count": 65,
   "metadata": {},
   "outputs": [
    {
     "name": "stdout",
     "output_type": "stream",
     "text": [
      "7\n"
     ]
    }
   ],
   "source": [
    "print(get_amount_of_components(uf, node_index))"
   ]
  },
  {
   "cell_type": "code",
   "execution_count": 35,
   "metadata": {},
   "outputs": [
    {
     "name": "stdout",
     "output_type": "stream",
     "text": [
      "6_814_841 / 6_847_324\n"
     ]
    }
   ],
   "source": [
    "# Get edgelist of connected component\n",
    "dfcc = df[ (df['source'].isin(component)) & (df['target'].isin(component)) ]\n",
    "print(\"{:_} / {:_}\".format(len(dfcc), len(df)))"
   ]
  },
  {
   "cell_type": "code",
   "execution_count": 45,
   "metadata": {},
   "outputs": [],
   "source": [
    "# Save new edges to file\n",
    "dfcc.to_csv(\"data/edges_cc_test.csv\", encoding='utf-8', index=False)"
   ]
  }
 ],
 "metadata": {
  "kernelspec": {
   "display_name": "network_env",
   "language": "python",
   "name": "python3"
  },
  "language_info": {
   "codemirror_mode": {
    "name": "ipython",
    "version": 3
   },
   "file_extension": ".py",
   "mimetype": "text/x-python",
   "name": "python",
   "nbconvert_exporter": "python",
   "pygments_lexer": "ipython3",
   "version": "3.12.2"
  }
 },
 "nbformat": 4,
 "nbformat_minor": 2
}
