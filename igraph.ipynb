{
 "cells": [
  {
   "cell_type": "code",
   "execution_count": 32,
   "metadata": {},
   "outputs": [],
   "source": [
    "import igraph as ig\n",
    "import matplotlib.pyplot as plt\n",
    "import random\n",
    "import time"
   ]
  },
  {
   "cell_type": "code",
   "execution_count": null,
   "metadata": {},
   "outputs": [],
   "source": [
    "g = ig.Graph()\n",
    "g.add_vertices(['1', '2', '3', '4', '5'])\n",
    "#g.add_vertices(5)\n",
    "#g.add_edges([(1,2), (2,3), (3,4), (1,4), (3,5)])\n",
    "#g.add_edges([(1,2), (2,3), (3,4), (1,4), (3,2), (0,1)])\n",
    "g.add_edges([('1','3'), ('2','1'), ('2','3'), ('4','5'), ('3','5'), ('2','5')])\n",
    "\n",
    "print(g)"
   ]
  },
  {
   "cell_type": "code",
   "execution_count": null,
   "metadata": {},
   "outputs": [],
   "source": [
    "#g.add_vertices([1,2])\n",
    "#g.add_edges([('1','2')])\n",
    "#print('1' in g.vs)\n",
    "#print(list(g.vs))\n",
    "#print(g)\n",
    "print(g.vs['name'])\n",
    "print()"
   ]
  },
  {
   "cell_type": "code",
   "execution_count": null,
   "metadata": {},
   "outputs": [],
   "source": [
    "print(g.edge_betweenness())\n",
    "print(g.degree())\n",
    "sel = g.vs.select(lambda v: v.degree() > 2)['name']\n",
    "print(sel)"
   ]
  },
  {
   "cell_type": "code",
   "execution_count": null,
   "metadata": {},
   "outputs": [],
   "source": [
    "cc = g.connected_components()\n",
    "print(len(cc))\n",
    "print(cc)\n",
    "print(type(cc))\n",
    "for c in cc:\n",
    "    print(len(c))\n",
    "    print(type(c))\n",
    "#print(cc.size(0))"
   ]
  },
  {
   "cell_type": "code",
   "execution_count": null,
   "metadata": {},
   "outputs": [],
   "source": [
    "g = ig.Graph.TupleList([['1','2']])\n",
    "print(g)\n",
    "print(g.vs['name'])"
   ]
  },
  {
   "cell_type": "code",
   "execution_count": null,
   "metadata": {},
   "outputs": [],
   "source": [
    "\n",
    "#ig.plot(g, layout=g.layout('kk'))\n",
    "ig.plot(g)"
   ]
  },
  {
   "cell_type": "code",
   "execution_count": null,
   "metadata": {},
   "outputs": [],
   "source": [
    "def create_random_graph(vertices_amount, edges_amount):\n",
    "    print(\"Creating iGraph with {:_} nodes and {:_} edges\".format(vertices_amount, edges_amount))\n",
    "    g = ig.Graph()\n",
    "    g.add_vertices(vertices_amount)\n",
    "    print(\"adding edges ... \", end='')\n",
    "    start = time.time()\n",
    "    for i in range(edges_amount):\n",
    "        g.add_edge(random.choice(g.vs), random.choice(g.vs))\n",
    "    end = time.time()\n",
    "    print(\"took {:_} seconds\".format(int(end-start)))\n",
    "    "
   ]
  },
  {
   "cell_type": "code",
   "execution_count": 30,
   "metadata": {},
   "outputs": [
    {
     "name": "stdout",
     "output_type": "stream",
     "text": [
      "10\n",
      "IGRAPH U--- 10 0 --\n",
      "IGRAPH U--- 10 1 --\n",
      "+ edges:\n",
      "0--0\n"
     ]
    }
   ],
   "source": [
    "import random\n",
    "g = ig.Graph()\n",
    "g.add_vertices(10)\n",
    "print(len(g.vs))\n",
    "\"\"\" for v in g.vs[:5]:\n",
    "    g.add_edge(v, 9) \"\"\"\n",
    "print(g)\n",
    "r1, r2 = random.choice(g.vs), random.choice(g.vs)\n",
    "g.add_edge(r1, r2)\n",
    "print(g)"
   ]
  }
 ],
 "metadata": {
  "kernelspec": {
   "display_name": "network_env",
   "language": "python",
   "name": "python3"
  },
  "language_info": {
   "codemirror_mode": {
    "name": "ipython",
    "version": 3
   },
   "file_extension": ".py",
   "mimetype": "text/x-python",
   "name": "python",
   "nbconvert_exporter": "python",
   "pygments_lexer": "ipython3",
   "version": "3.12.2"
  }
 },
 "nbformat": 4,
 "nbformat_minor": 2
}
