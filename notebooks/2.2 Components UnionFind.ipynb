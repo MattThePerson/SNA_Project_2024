{
 "cells": [
  {
   "cell_type": "code",
   "execution_count": null,
   "metadata": {},
   "outputs": [],
   "source": [
    "# This notebook deals with creating an edgelist file containing all the edges in the nth largest\n",
    "# connected component of the large edgelist (600 million edges). It does not rely on NetworkX\n",
    "# or any other libraries other than Pandas to do this (since they are too computationally expensive)\n",
    "import time\n",
    "import dask.dataframe as dd\n",
    "from fun.fun import *"
   ]
  },
  {
   "cell_type": "code",
   "execution_count": 2,
   "metadata": {},
   "outputs": [],
   "source": [
    "class UnionFind:\n",
    "    def __init__(self, n):\n",
    "        self.parent = [i for i in range(n)]\n",
    "        self.rank = [0] * n\n",
    "        self.size = [1] * n\n",
    "\n",
    "    def find(self, u):\n",
    "        if self.parent[u] != u:\n",
    "            self.parent[u] = self.find(self.parent[u])\n",
    "        return self.parent[u]\n",
    "\n",
    "    def union(self, u, v):\n",
    "        pu, pv = self.find(u), self.find(v)\n",
    "        if pu == pv:\n",
    "            return\n",
    "        if self.rank[pu] < self.rank[pv]:\n",
    "            self.parent[pu] = pv\n",
    "            self.size[pv] += self.size[pu]\n",
    "        elif self.rank[pv] < self.rank[pu]:\n",
    "            self.parent[pv] = pu\n",
    "            self.size[pu] += self.size[pv]\n",
    "        else:\n",
    "            self.parent[pu] = pv\n",
    "            self.rank[pv] += 1\n",
    "            self.size[pv] += self.size[pu]"
   ]
  },
  {
   "cell_type": "code",
   "execution_count": 3,
   "metadata": {},
   "outputs": [],
   "source": [
    "def initialize_unionfind(edges):\n",
    "    print(\"Initializing UnionFind data structure ...\")\n",
    "    nodes = set(edges['source']).union(set(edges['target']))\n",
    "    node_index = {node: i for i, node in enumerate(nodes)}\n",
    "    n = len(nodes)\n",
    "    print(\"Found {:_} unique nodes\".format(n))\n",
    "    uf = UnionFind(n)\n",
    "    print(\"Computing union of all edges ...\")\n",
    "    handled, total = 0, len(edges)\n",
    "    for _, row in edges.iterrows():\n",
    "        uf.union(node_index[row['source']], node_index[row['target']])\n",
    "        handled, perc  = track_progress(total, handled, \"edges handled:\", inc=100)\n",
    "    print(\"\\nDone.\")\n",
    "    return uf, node_index"
   ]
  },
  {
   "cell_type": "code",
   "execution_count": 4,
   "metadata": {},
   "outputs": [],
   "source": [
    "def get_connected_component(uf, node_index, n=0):\n",
    "    comps = {}\n",
    "    for node, i in node_index.items():\n",
    "        parent = uf.find(i)\n",
    "        comps[parent] = comps.get(parent, []) + [node]\n",
    "    if n >= len(comps):\n",
    "        return []\n",
    "    keys_sorted = sorted( comps.keys(), reverse=True, key=lambda parent: len(comps[parent]) )\n",
    "    return comps[keys_sorted[n]]"
   ]
  },
  {
   "cell_type": "code",
   "execution_count": 5,
   "metadata": {},
   "outputs": [],
   "source": [
    "def get_amount_of_components(uf, node_index):\n",
    "    unique_parents = set()\n",
    "    for i in range(len(node_index)):\n",
    "        unique_parents.add(uf.find(i))\n",
    "    return len(unique_parents)"
   ]
  },
  {
   "cell_type": "code",
   "execution_count": 6,
   "metadata": {},
   "outputs": [],
   "source": [
    "# START\n",
    "edges_fn = \"../data/edges.parquet\"\n",
    "# edges_total = 684_732_453"
   ]
  },
  {
   "cell_type": "code",
   "execution_count": null,
   "metadata": {},
   "outputs": [],
   "source": [
    "# -> IN : Read edge list to dask df\n",
    "print(\"reading edges ... \", end='')\n",
    "start = time.time()\n",
    "df = dd.read_parquet(\"../data/edges.parquet\").head(100_000)\n",
    "end = time.time()\n",
    "print(\"read {:_} lines (took {:.1f}s)\".format(len(df), (end-start)))\n",
    "df.head()"
   ]
  },
  {
   "cell_type": "code",
   "execution_count": 25,
   "metadata": {},
   "outputs": [
    {
     "name": "stdout",
     "output_type": "stream",
     "text": [
      "Initializing UnionFind data structure ...\n",
      "Found 1_605 unique nodes\n",
      "Computing union of all edges ...\n",
      " edges handled: 100_000/100_000 (100.00000%)\n",
      "Done.\n"
     ]
    }
   ],
   "source": [
    "# Initialize union find\n",
    "uf, node_index = initialize_unionfind(df)"
   ]
  },
  {
   "cell_type": "code",
   "execution_count": 26,
   "metadata": {},
   "outputs": [
    {
     "name": "stdout",
     "output_type": "stream",
     "text": [
      "Found 8 connected components:\n",
      "  component 1 has 801 nodes\n",
      "  component 2 has 356 nodes\n",
      "  component 3 has 221 nodes\n",
      "  component 4 has 136 nodes\n",
      "  component 5 has 36 nodes\n",
      "  component 6 has 32 nodes\n",
      "  component 7 has 18 nodes\n",
      "  component 8 has 5 nodes\n"
     ]
    }
   ],
   "source": [
    "# Get nth largest connected component\n",
    "cc_n = get_amount_of_components(uf, node_index)\n",
    "print(\"Found {} connected components:\".format(cc_n))\n",
    "for i in range(cc_n):\n",
    "    component = get_connected_component(uf, node_index, i)\n",
    "    print(\"  component {} has {:_} nodes\".format(i+1, len(component)))"
   ]
  },
  {
   "cell_type": "code",
   "execution_count": 32,
   "metadata": {},
   "outputs": [],
   "source": [
    "# DICT generate dict of nodes to groups\n",
    "d = {}\n",
    "cc_n = get_amount_of_components(uf, node_index)\n",
    "for i in range(cc_n):\n",
    "    group = i+1\n",
    "    component = get_connected_component(uf, node_index, i)\n",
    "    for node in component:\n",
    "        d[node] = group\n",
    "sorted_keys = sorted(d.keys())"
   ]
  },
  {
   "cell_type": "code",
   "execution_count": 39,
   "metadata": {},
   "outputs": [
    {
     "name": "stdout",
     "output_type": "stream",
     "text": [
      " rows written: 500_000/500_000 (100.00000%)"
     ]
    }
   ],
   "source": [
    "# <- OUT : Save node communities to file\n",
    "import csv\n",
    "file = open(\"../data/communities.csv\", 'w', newline='')\n",
    "writer = csv.writer(file)\n",
    "writer.writerow(['node', 'community'])\n",
    "for i, key in enumerate(sorted(d.keys())):\n",
    "    group = d[key]\n",
    "    writer.writerow([key, group])\n",
    "    track_progress(len(d), i, text=\"rows written:\", inc=100)\n",
    "file.close()"
   ]
  },
  {
   "cell_type": "code",
   "execution_count": 11,
   "metadata": {},
   "outputs": [
    {
     "name": "stdout",
     "output_type": "stream",
     "text": [
      "1 / 1_000\n"
     ]
    }
   ],
   "source": [
    "# Get edgelist of connected component\n",
    "dfcc = df[ (df['source'].isin(component)) & (df['target'].isin(component)) ]\n",
    "print(\"{:_} / {:_}\".format(len(dfcc), len(df)))"
   ]
  },
  {
   "cell_type": "code",
   "execution_count": 12,
   "metadata": {},
   "outputs": [],
   "source": [
    "# <- OUT : Save new edges to file\n",
    "dfcc.to_csv(\"../data/edges_cc_test.csv\", encoding='utf-8', index=False)"
   ]
  }
 ],
 "metadata": {
  "kernelspec": {
   "display_name": "network_env",
   "language": "python",
   "name": "python3"
  },
  "language_info": {
   "codemirror_mode": {
    "name": "ipython",
    "version": 3
   },
   "file_extension": ".py",
   "mimetype": "text/x-python",
   "name": "python",
   "nbconvert_exporter": "python",
   "pygments_lexer": "ipython3",
   "version": "3.12.2"
  }
 },
 "nbformat": 4,
 "nbformat_minor": 2
}
