{
 "cells": [
  {
   "cell_type": "code",
   "execution_count": 1,
   "metadata": {},
   "outputs": [
    {
     "name": "stderr",
     "output_type": "stream",
     "text": [
      "c:\\Users\\stirl\\miniconda3\\envs\\network_env\\Lib\\site-packages\\dask\\dataframe\\__init__.py:31: FutureWarning: \n",
      "Dask dataframe query planning is disabled because dask-expr is not installed.\n",
      "\n",
      "You can install it with `pip install dask[dataframe]` or `conda install dask`.\n",
      "This will raise in a future version.\n",
      "\n",
      "  warnings.warn(msg, FutureWarning)\n"
     ]
    }
   ],
   "source": [
    "# This notebook deals with creating an edgelist file containing all the edges in the nth largest\n",
    "# connected component of the large edgelist (600 million edges). It does not rely on NetworkX\n",
    "# or any other libraries other than Pandas to do this (since they are too computationally expensive)\n",
    "import time\n",
    "import dask.dataframe as dd\n",
    "from fun.fun import *"
   ]
  },
  {
   "cell_type": "code",
   "execution_count": 2,
   "metadata": {},
   "outputs": [],
   "source": [
    "class UnionFind:\n",
    "    def __init__(self, n):\n",
    "        self.parent = [i for i in range(n)]\n",
    "        self.rank = [0] * n\n",
    "        self.size = [1] * n\n",
    "\n",
    "    def find(self, u):\n",
    "        if self.parent[u] != u:\n",
    "            self.parent[u] = self.find(self.parent[u])\n",
    "        return self.parent[u]\n",
    "\n",
    "    def union(self, u, v):\n",
    "        pu, pv = self.find(u), self.find(v)\n",
    "        if pu == pv:\n",
    "            return\n",
    "        if self.rank[pu] < self.rank[pv]:\n",
    "            self.parent[pu] = pv\n",
    "            self.size[pv] += self.size[pu]\n",
    "        elif self.rank[pv] < self.rank[pu]:\n",
    "            self.parent[pv] = pu\n",
    "            self.size[pu] += self.size[pv]\n",
    "        else:\n",
    "            self.parent[pu] = pv\n",
    "            self.rank[pv] += 1\n",
    "            self.size[pv] += self.size[pu]"
   ]
  },
  {
   "cell_type": "code",
   "execution_count": 3,
   "metadata": {},
   "outputs": [],
   "source": [
    "def initialize_unionfind(edges):\n",
    "    print(\"Initializing UnionFind data structure ...\")\n",
    "    nodes = set(edges['source']).union(set(edges['target']))\n",
    "    node_index = {node: i for i, node in enumerate(nodes)}\n",
    "    n = len(nodes)\n",
    "    print(\"Found {:_} unique nodes\".format(n))\n",
    "    uf = UnionFind(n)\n",
    "    print(\"Computing union of all edges ...\")\n",
    "    handled, total = 0, len(edges)\n",
    "    for _, row in edges.iterrows():\n",
    "        uf.union(node_index[row['source']], node_index[row['target']])\n",
    "        handled, perc  = track_progress(total, handled, \"edges handled:\", inc=100)\n",
    "    print(\"\\nDone.\")\n",
    "    return uf, node_index"
   ]
  },
  {
   "cell_type": "code",
   "execution_count": 5,
   "metadata": {},
   "outputs": [],
   "source": [
    "def get_amount_of_components(uf, node_index):\n",
    "    unique_parents = set()\n",
    "    for i in range(len(node_index)):\n",
    "        unique_parents.add(uf.find(i))\n",
    "    return len(unique_parents)"
   ]
  },
  {
   "cell_type": "code",
   "execution_count": 38,
   "metadata": {},
   "outputs": [],
   "source": [
    "# START\n",
    "edges_fn = \"../data/edges.parquet\"\n",
    "communities_fn = \"../data/communities.csv\""
   ]
  },
  {
   "cell_type": "code",
   "execution_count": 7,
   "metadata": {},
   "outputs": [
    {
     "name": "stdout",
     "output_type": "stream",
     "text": [
      "reading edges ... read 684_732_453 lines (took 0.1s)\n"
     ]
    },
    {
     "data": {
      "text/html": [
       "<div>\n",
       "<style scoped>\n",
       "    .dataframe tbody tr th:only-of-type {\n",
       "        vertical-align: middle;\n",
       "    }\n",
       "\n",
       "    .dataframe tbody tr th {\n",
       "        vertical-align: top;\n",
       "    }\n",
       "\n",
       "    .dataframe thead th {\n",
       "        text-align: right;\n",
       "    }\n",
       "</style>\n",
       "<table border=\"1\" class=\"dataframe\">\n",
       "  <thead>\n",
       "    <tr style=\"text-align: right;\">\n",
       "      <th></th>\n",
       "      <th>source</th>\n",
       "      <th>target</th>\n",
       "    </tr>\n",
       "  </thead>\n",
       "  <tbody>\n",
       "    <tr>\n",
       "      <th>0</th>\n",
       "      <td>13</td>\n",
       "      <td>103151</td>\n",
       "    </tr>\n",
       "    <tr>\n",
       "      <th>1</th>\n",
       "      <td>13</td>\n",
       "      <td>214293</td>\n",
       "    </tr>\n",
       "    <tr>\n",
       "      <th>2</th>\n",
       "      <td>103151</td>\n",
       "      <td>214293</td>\n",
       "    </tr>\n",
       "    <tr>\n",
       "      <th>3</th>\n",
       "      <td>13</td>\n",
       "      <td>138731</td>\n",
       "    </tr>\n",
       "    <tr>\n",
       "      <th>4</th>\n",
       "      <td>13</td>\n",
       "      <td>42023</td>\n",
       "    </tr>\n",
       "  </tbody>\n",
       "</table>\n",
       "</div>"
      ],
      "text/plain": [
       "   source  target\n",
       "0      13  103151\n",
       "1      13  214293\n",
       "2  103151  214293\n",
       "3      13  138731\n",
       "4      13   42023"
      ]
     },
     "execution_count": 7,
     "metadata": {},
     "output_type": "execute_result"
    }
   ],
   "source": [
    "# -> IN : Read edge list to dask df\n",
    "print(\"reading edges ... \", end='')\n",
    "start = time.time()\n",
    "df = dd.read_parquet(\"../data/edges.parquet\")\n",
    "end = time.time()\n",
    "print(\"read {:_} lines (took {:.1f}s)\".format(len(df), (end-start)))\n",
    "df.head()"
   ]
  },
  {
   "cell_type": "code",
   "execution_count": 8,
   "metadata": {},
   "outputs": [
    {
     "name": "stdout",
     "output_type": "stream",
     "text": [
      "Initializing UnionFind data structure ...\n",
      "Found 410_885 unique nodes\n",
      "Computing union of all edges ...\n",
      " edges handled: 684_732_453/684_732_453 (100.00000%)\n",
      "\n",
      "Done.\n"
     ]
    }
   ],
   "source": [
    "# Initialize union find\n",
    "uf, node_index = initialize_unionfind(df)"
   ]
  },
  {
   "cell_type": "code",
   "execution_count": 16,
   "metadata": {},
   "outputs": [
    {
     "name": "stdout",
     "output_type": "stream",
     "text": [
      " progress: 410_885/410_885 (100.00000%)\n",
      "\n",
      "Done.\n",
      "7746\n"
     ]
    }
   ],
   "source": [
    "# create components by shared parent node (.find())\n",
    "comps = {}\n",
    "total, i = len(node_index), 0\n",
    "for node, i in node_index.items():\n",
    "    parent = uf.find(i)\n",
    "    comps[parent] = comps.get(parent, []) + [node]\n",
    "    i, perc = track_progress(total, i)\n",
    "print(\"Done.\")\n",
    "print(len(comps))"
   ]
  },
  {
   "cell_type": "code",
   "execution_count": null,
   "metadata": {},
   "outputs": [],
   "source": [
    "# Sort keys by length of their group and generate group index\n",
    "keys_sorted = sorted( comps.keys(), reverse=True, key=lambda parent: len(comps[parent]) )\n",
    "group_index = { parent: (index+1) for index, parent in enumerate(keys_sorted) }\n",
    "for k, i in group_index.items():\n",
    "    print(k, i)"
   ]
  },
  {
   "cell_type": "code",
   "execution_count": 28,
   "metadata": {},
   "outputs": [],
   "source": [
    "# Generate map from node to its group_i\n",
    "node_groups = {}\n",
    "for par, group in comps.items():\n",
    "    group_i = group_index[par]\n",
    "    for node in group:\n",
    "        node_groups[node] = group_i"
   ]
  },
  {
   "cell_type": "code",
   "execution_count": 37,
   "metadata": {},
   "outputs": [
    {
     "name": "stdout",
     "output_type": "stream",
     "text": [
      " rows written: 410_885/410_885 (100.00000%)\n"
     ]
    }
   ],
   "source": [
    "# <- OUT : Save node communities to file\n",
    "import csv\n",
    "file = open(communities_fn, 'w', newline='')\n",
    "writer = csv.writer(file)\n",
    "writer.writerow(['node', 'community'])\n",
    "total, i = len(node_index), 0\n",
    "for n in list(node_index.keys()):\n",
    "    group_i = node_groups[n]\n",
    "    writer.writerow([n, group_i])\n",
    "    i, perc = track_progress(total, i, text=\"rows written:\", inc=5)\n",
    "file.close()"
   ]
  }
 ],
 "metadata": {
  "kernelspec": {
   "display_name": "network_env",
   "language": "python",
   "name": "python3"
  },
  "language_info": {
   "codemirror_mode": {
    "name": "ipython",
    "version": 3
   },
   "file_extension": ".py",
   "mimetype": "text/x-python",
   "name": "python",
   "nbconvert_exporter": "python",
   "pygments_lexer": "ipython3",
   "version": "3.12.2"
  }
 },
 "nbformat": 4,
 "nbformat_minor": 2
}
