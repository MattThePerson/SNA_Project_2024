{
 "cells": [
  {
   "cell_type": "code",
   "execution_count": null,
   "metadata": {},
   "outputs": [],
   "source": [
    "# Generate nodelist file from edgelist.\n",
    "# Nodelist is a csv where the first element in a row is the node and the rest are the neighbors \n",
    "# of that node\n",
    "import pandas as pd\n",
    "import dask.dataframe as dd\n",
    "import time\n",
    "import csv\n",
    "from fun.fun import *"
   ]
  },
  {
   "cell_type": "code",
   "execution_count": null,
   "metadata": {},
   "outputs": [],
   "source": [
    "# Variables\n",
    "edges_fn = \"../data/edges.csv\"\n",
    "edges_total = 684_732_453 # hardcoded"
   ]
  },
  {
   "cell_type": "code",
   "execution_count": null,
   "metadata": {},
   "outputs": [],
   "source": [
    "# Read edges to dataframe\n",
    "perc = 100\n",
    "nrows=int(edges_total*perc/100)\n",
    "print(\"reading edges ... \", end='')\n",
    "start = time.time()\n",
    "df = pd.read_csv(edges_fn, nrows=nrows)\n",
    "end = time.time()\n",
    "print(\"read {:_} lines (took {:.1f}s)\".format(len(df), (end-start)))"
   ]
  },
  {
   "cell_type": "code",
   "execution_count": null,
   "metadata": {},
   "outputs": [],
   "source": [
    "# get set of all unique nodes\n",
    "nodes = sorted(set(df['source']).union(set(df['target'])))\n",
    "print(\"Found {:_} unique nodes\".format(len(nodes)))"
   ]
  },
  {
   "cell_type": "code",
   "execution_count": null,
   "metadata": {},
   "outputs": [],
   "source": [
    "# Open csv file\n",
    "file = open('../data/nodelist.csv', 'w', newline='')\n",
    "writer = csv.writer(file)\n",
    "\n",
    "# Generate edges for each\n",
    "nodes_handled, total = 0, len(nodes)\n",
    "for node in nodes:\n",
    "    edges = df[(df['source'] == node) | (df['target'] == node)]\n",
    "    neighbors = set(edges['source']).union(set(edges['target']))\n",
    "    neighbors.remove(node)\n",
    "    csv_row = [node] + list(neighbors)\n",
    "    writer.writerow(csv_row)\n",
    "    nodes_handled, perc = track_progress(total, nodes_handled, text='progress:', inc=10)\n",
    "    \"\"\" if perc > 10:\n",
    "        break \"\"\"\n",
    "file.close()"
   ]
  }
 ],
 "metadata": {
  "kernelspec": {
   "display_name": "network_env",
   "language": "python",
   "name": "python3"
  },
  "language_info": {
   "codemirror_mode": {
    "name": "ipython",
    "version": 3
   },
   "file_extension": ".py",
   "mimetype": "text/x-python",
   "name": "python",
   "nbconvert_exporter": "python",
   "pygments_lexer": "ipython3",
   "version": "3.12.2"
  }
 },
 "nbformat": 4,
 "nbformat_minor": 2
}
