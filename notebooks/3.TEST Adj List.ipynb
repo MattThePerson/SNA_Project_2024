{
 "cells": [
  {
   "cell_type": "code",
   "execution_count": 1,
   "metadata": {},
   "outputs": [
    {
     "name": "stderr",
     "output_type": "stream",
     "text": [
      "c:\\Users\\stirl\\miniconda3\\envs\\network_env\\Lib\\site-packages\\dask\\dataframe\\__init__.py:31: FutureWarning: \n",
      "Dask dataframe query planning is disabled because dask-expr is not installed.\n",
      "\n",
      "You can install it with `pip install dask[dataframe]` or `conda install dask`.\n",
      "This will raise in a future version.\n",
      "\n",
      "  warnings.warn(msg, FutureWarning)\n"
     ]
    }
   ],
   "source": [
    "# Functions: Analyse the evoltion of average positive and negative\n",
    "import numpy as np\n",
    "import pandas as pd\n",
    "import dask.dataframe as dd\n",
    "import igraph as ig\n",
    "import matplotlib.pyplot as plt\n",
    "import time\n",
    "from fun.fun import *\n",
    "\n",
    "pd.set_option('display.width', 500)"
   ]
  },
  {
   "cell_type": "code",
   "execution_count": 2,
   "metadata": {},
   "outputs": [],
   "source": [
    "# Filenames\n",
    "dataset_fn = \"../dataset/TweetsCOV19.tsv\"\n",
    "plot_fn = \"../images/plots/transitivity_evolution.png\""
   ]
  },
  {
   "cell_type": "code",
   "execution_count": 99,
   "metadata": {},
   "outputs": [
    {
     "name": "stdout",
     "output_type": "stream",
     "text": [
      "reading edges ... read 684_732_453 lines (took 0.3s)\n",
      "source    int64\n",
      "target    int64\n",
      "dtype: object\n"
     ]
    },
    {
     "data": {
      "text/html": [
       "<div>\n",
       "<style scoped>\n",
       "    .dataframe tbody tr th:only-of-type {\n",
       "        vertical-align: middle;\n",
       "    }\n",
       "\n",
       "    .dataframe tbody tr th {\n",
       "        vertical-align: top;\n",
       "    }\n",
       "\n",
       "    .dataframe thead th {\n",
       "        text-align: right;\n",
       "    }\n",
       "</style>\n",
       "<table border=\"1\" class=\"dataframe\">\n",
       "  <thead>\n",
       "    <tr style=\"text-align: right;\">\n",
       "      <th></th>\n",
       "      <th>source</th>\n",
       "      <th>target</th>\n",
       "    </tr>\n",
       "  </thead>\n",
       "  <tbody>\n",
       "    <tr>\n",
       "      <th>0</th>\n",
       "      <td>13</td>\n",
       "      <td>103151</td>\n",
       "    </tr>\n",
       "    <tr>\n",
       "      <th>1</th>\n",
       "      <td>13</td>\n",
       "      <td>214293</td>\n",
       "    </tr>\n",
       "    <tr>\n",
       "      <th>2</th>\n",
       "      <td>103151</td>\n",
       "      <td>214293</td>\n",
       "    </tr>\n",
       "    <tr>\n",
       "      <th>3</th>\n",
       "      <td>13</td>\n",
       "      <td>138731</td>\n",
       "    </tr>\n",
       "    <tr>\n",
       "      <th>4</th>\n",
       "      <td>13</td>\n",
       "      <td>42023</td>\n",
       "    </tr>\n",
       "  </tbody>\n",
       "</table>\n",
       "</div>"
      ],
      "text/plain": [
       "   source  target\n",
       "0      13  103151\n",
       "1      13  214293\n",
       "2  103151  214293\n",
       "3      13  138731\n",
       "4      13   42023"
      ]
     },
     "execution_count": 99,
     "metadata": {},
     "output_type": "execute_result"
    }
   ],
   "source": [
    "# -> IN : Read Edge List\n",
    "edges_fn = \"../data/edges.parquet\"\n",
    "print(\"reading edges ... \", end='')\n",
    "start = time.time()\n",
    "df = dd.read_parquet(\"../data/edges.parquet\")\n",
    "df[['source', 'target']] = df[['source', 'target']].astype('int32')\n",
    "end = time.time()\n",
    "print(\"read {:_} lines (took {:.1f}s)\".format(len(df), (end-start)))\n",
    "print(df.dtypes)\n",
    "df.head()"
   ]
  },
  {
   "cell_type": "code",
   "execution_count": 4,
   "metadata": {},
   "outputs": [
    {
     "name": "stdout",
     "output_type": "stream",
     "text": [
      "Importing dataset from tsv file ...read 8_077_794 lines (took 59.9s)\n",
      "Converting timestamp column\n",
      "Filtering desired columns and between desired dates ... 8_077_794 rows in dataframe\n",
      "Parsing hashtags and positive/negative sentiments\n",
      "filtering for tweets that contain hashtags ... 8_077_794 rows in dataframe\n",
      "Loaded 462_901 tweets\n"
     ]
    },
    {
     "data": {
      "text/html": [
       "<div>\n",
       "<style scoped>\n",
       "    .dataframe tbody tr th:only-of-type {\n",
       "        vertical-align: middle;\n",
       "    }\n",
       "\n",
       "    .dataframe tbody tr th {\n",
       "        vertical-align: top;\n",
       "    }\n",
       "\n",
       "    .dataframe thead th {\n",
       "        text-align: right;\n",
       "    }\n",
       "</style>\n",
       "<table border=\"1\" class=\"dataframe\">\n",
       "  <thead>\n",
       "    <tr style=\"text-align: right;\">\n",
       "      <th></th>\n",
       "      <th>Username</th>\n",
       "      <th>Timestamp</th>\n",
       "      <th>Hashtags</th>\n",
       "      <th>Sentiment_pos</th>\n",
       "      <th>Sentiment_neg</th>\n",
       "    </tr>\n",
       "    <tr>\n",
       "      <th>Tweet Id</th>\n",
       "      <th></th>\n",
       "      <th></th>\n",
       "      <th></th>\n",
       "      <th></th>\n",
       "      <th></th>\n",
       "    </tr>\n",
       "  </thead>\n",
       "  <tbody>\n",
       "    <tr>\n",
       "      <th>1200928806757752833</th>\n",
       "      <td>83c182d0ee195dc692900d7ff7328171</td>\n",
       "      <td>2019-12-01 00:05:14+00:00</td>\n",
       "      <td>[rgvwx, rgv, txwx, spi]</td>\n",
       "      <td>1</td>\n",
       "      <td>-2</td>\n",
       "    </tr>\n",
       "    <tr>\n",
       "      <th>1200931476642115586</th>\n",
       "      <td>73c3e83574f1eb0a5201c71cf46c732c</td>\n",
       "      <td>2019-12-01 00:15:50+00:00</td>\n",
       "      <td>[KeDezembaBoss]</td>\n",
       "      <td>2</td>\n",
       "      <td>-4</td>\n",
       "    </tr>\n",
       "    <tr>\n",
       "      <th>1200941770835521536</th>\n",
       "      <td>4efca14ff68aa1edd9aea0c78c615ef2</td>\n",
       "      <td>2019-12-01 00:56:45+00:00</td>\n",
       "      <td>[fame., FreeBritney]</td>\n",
       "      <td>2</td>\n",
       "      <td>-2</td>\n",
       "    </tr>\n",
       "    <tr>\n",
       "      <th>1200948819015454721</th>\n",
       "      <td>a53fd620b4178d04a1d2c4e37e85e0ae</td>\n",
       "      <td>2019-12-01 01:24:45+00:00</td>\n",
       "      <td>[FakeNews]</td>\n",
       "      <td>1</td>\n",
       "      <td>-2</td>\n",
       "    </tr>\n",
       "    <tr>\n",
       "      <th>1200955132944560135</th>\n",
       "      <td>215a5a37e161f7ceaa0c532e73f62c40</td>\n",
       "      <td>2019-12-01 01:49:51+00:00</td>\n",
       "      <td>[KabukiPolitics]</td>\n",
       "      <td>1</td>\n",
       "      <td>-1</td>\n",
       "    </tr>\n",
       "  </tbody>\n",
       "</table>\n",
       "</div>"
      ],
      "text/plain": [
       "                                             Username                 Timestamp                 Hashtags  Sentiment_pos  Sentiment_neg\n",
       "Tweet Id                                                                                                                              \n",
       "1200928806757752833  83c182d0ee195dc692900d7ff7328171 2019-12-01 00:05:14+00:00  [rgvwx, rgv, txwx, spi]              1             -2\n",
       "1200931476642115586  73c3e83574f1eb0a5201c71cf46c732c 2019-12-01 00:15:50+00:00          [KeDezembaBoss]              2             -4\n",
       "1200941770835521536  4efca14ff68aa1edd9aea0c78c615ef2 2019-12-01 00:56:45+00:00     [fame., FreeBritney]              2             -2\n",
       "1200948819015454721  a53fd620b4178d04a1d2c4e37e85e0ae 2019-12-01 01:24:45+00:00               [FakeNews]              1             -2\n",
       "1200955132944560135  215a5a37e161f7ceaa0c532e73f62c40 2019-12-01 01:49:51+00:00         [KabukiPolitics]              1             -1"
      ]
     },
     "execution_count": 4,
     "metadata": {},
     "output_type": "execute_result"
    }
   ],
   "source": [
    "# -> IN : Load tweets dataframe\n",
    "tw = get_filtered_tweets_dataframe(dataset_fn)\n",
    "print(\"Loaded {:_} tweets\".format(len(tw)))\n",
    "tw.head()"
   ]
  },
  {
   "cell_type": "code",
   "execution_count": 4,
   "metadata": {},
   "outputs": [
    {
     "name": "stdout",
     "output_type": "stream",
     "text": [
      "Number of nodes: 410_885\n"
     ]
    },
    {
     "data": {
      "text/html": [
       "<div>\n",
       "<style scoped>\n",
       "    .dataframe tbody tr th:only-of-type {\n",
       "        vertical-align: middle;\n",
       "    }\n",
       "\n",
       "    .dataframe tbody tr th {\n",
       "        vertical-align: top;\n",
       "    }\n",
       "\n",
       "    .dataframe thead th {\n",
       "        text-align: right;\n",
       "    }\n",
       "</style>\n",
       "<table border=\"1\" class=\"dataframe\">\n",
       "  <thead>\n",
       "    <tr style=\"text-align: right;\">\n",
       "      <th></th>\n",
       "      <th>index</th>\n",
       "    </tr>\n",
       "    <tr>\n",
       "      <th>twitter id</th>\n",
       "      <th></th>\n",
       "    </tr>\n",
       "  </thead>\n",
       "  <tbody>\n",
       "    <tr>\n",
       "      <th>1200927495186505729</th>\n",
       "      <td>0</td>\n",
       "    </tr>\n",
       "    <tr>\n",
       "      <th>1200927503201816576</th>\n",
       "      <td>1</td>\n",
       "    </tr>\n",
       "    <tr>\n",
       "      <th>1200927507828097026</th>\n",
       "      <td>2</td>\n",
       "    </tr>\n",
       "    <tr>\n",
       "      <th>1200927511087067136</th>\n",
       "      <td>3</td>\n",
       "    </tr>\n",
       "    <tr>\n",
       "      <th>1200927514216062976</th>\n",
       "      <td>4</td>\n",
       "    </tr>\n",
       "  </tbody>\n",
       "</table>\n",
       "</div>"
      ],
      "text/plain": [
       "                     index\n",
       "twitter id                \n",
       "1200927495186505729      0\n",
       "1200927503201816576      1\n",
       "1200927507828097026      2\n",
       "1200927511087067136      3\n",
       "1200927514216062976      4"
      ]
     },
     "execution_count": 4,
     "metadata": {},
     "output_type": "execute_result"
    }
   ],
   "source": [
    "# -> IN : Read list of nodes\n",
    "nodes = pd.read_csv('../data/node_ids.csv', index_col='twitter id')\n",
    "print(\"Number of nodes: {:_}\".format(len(nodes)))\n",
    "nodes.head()"
   ]
  },
  {
   "cell_type": "code",
   "execution_count": 96,
   "metadata": {},
   "outputs": [
    {
     "name": "stdout",
     "output_type": "stream",
     "text": [
      "Min timestamp: 2019-12-01 00:00:01+00:00\n",
      "Max timestamp: 2020-02-29 23:59:49+00:00\n",
      "Timestamp increment: 0 days 21:50:23.880000\n"
     ]
    }
   ],
   "source": [
    "# Compute timestamp bins\n",
    "steps = 100\n",
    "ts_min, ts_max = min(tw['Timestamp']), max(tw['Timestamp'])\n",
    "ts_inc = (ts_max - ts_min) / 100\n",
    "ts_bins = [ ts_min + i*ts_inc for i in range(steps+1) ]\n",
    "\n",
    "print(\"Min timestamp:\", ts_min)\n",
    "print(\"Max timestamp:\", ts_max)\n",
    "print(\"Timestamp increment:\", ts_inc)"
   ]
  },
  {
   "cell_type": "code",
   "execution_count": 70,
   "metadata": {},
   "outputs": [
    {
     "name": "stdout",
     "output_type": "stream",
     "text": [
      "    source  target\n",
      "32   42023   70117\n",
      "33   42023   43183\n",
      "34   42023   41253\n",
      "35   42023   44918\n",
      "36   42023   73474\n",
      "37   42023   96476\n",
      "38   42023  104557\n",
      "39   42023   69055\n",
      "40   42023  156588\n",
      "41   42023  149960\n",
      "   source  target\n",
      "4      13   42023\n"
     ]
    }
   ],
   "source": [
    "#df\n",
    "#for i in range(20):\n",
    "i = 42023\n",
    "index = nodes.iloc[i]['index']\n",
    "src_edges = df[df['source'] == index]\n",
    "#src_edges = src_edges.rename(columns={'target' : 'node'})\n",
    "print(src_edges.head(10))\n",
    "tgt_edges = df[df['target'] == index]\n",
    "#tgt_edges = tgt_edges.rename(columns={'source' : 'node'})\n",
    "#tgt_edges.drop('target', axis=1, inplace=True)\n",
    "print(tgt_edges.head())\n",
    "#print(tgt_edges.T)\n",
    "#print(df.loc[0])"
   ]
  },
  {
   "cell_type": "code",
   "execution_count": 91,
   "metadata": {},
   "outputs": [
    {
     "data": {
      "text/plain": [
       "32     70117\n",
       "33     43183\n",
       "34     41253\n",
       "35     44918\n",
       "36     73474\n",
       "37     96476\n",
       "38    104557\n",
       "39     69055\n",
       "40    156588\n",
       "41    149960\n",
       "42    156404\n",
       "43    172186\n",
       "44    138623\n",
       "45    153737\n",
       "46    204783\n",
       "47    155933\n",
       "48    178341\n",
       "49    186975\n",
       "50    127556\n",
       "51    138824\n",
       "52    303271\n",
       "53    383384\n",
       "54    410354\n",
       "55    358554\n",
       "56    307711\n",
       "57    282364\n",
       "58    391316\n",
       "4         13\n",
       "dtype: int64"
      ]
     },
     "execution_count": 91,
     "metadata": {},
     "output_type": "execute_result"
    }
   ],
   "source": [
    "#src_edges['target'].append(tgt_edges['source'])\n",
    "df = pd.DataFrame()\n",
    "row = pd.concat([src_edges['target'], tgt_edges['source']])\n",
    "#df = pd.concat([df, row.transpose()], ignore_index=True)\n",
    "#df\n",
    "row.transpose()"
   ]
  },
  {
   "cell_type": "code",
   "execution_count": 98,
   "metadata": {},
   "outputs": [
    {
     "name": "stdout",
     "output_type": "stream",
     "text": [
      "19\n",
      "19\n",
      "19\n",
      "19\n",
      "19\n",
      "19\n"
     ]
    }
   ],
   "source": [
    "ts = pd.read_csv('test.csv', names=range(20), index_col=0)\n",
    "ts\n",
    "for _, row in ts.iterrows():\n",
    "    print(len(row))"
   ]
  }
 ],
 "metadata": {
  "kernelspec": {
   "display_name": "network_env",
   "language": "python",
   "name": "python3"
  },
  "language_info": {
   "codemirror_mode": {
    "name": "ipython",
    "version": 3
   },
   "file_extension": ".py",
   "mimetype": "text/x-python",
   "name": "python",
   "nbconvert_exporter": "python",
   "pygments_lexer": "ipython3",
   "version": "3.12.2"
  }
 },
 "nbformat": 4,
 "nbformat_minor": 2
}
