{
 "cells": [
  {
   "cell_type": "code",
   "execution_count": 1,
   "metadata": {},
   "outputs": [],
   "source": [
    "# This notebook takes the edgelist (edgelist_ids.csv) and \n",
    "# 1) maps the node names from Twitter ID -> Mapped index starting from 0\n",
    "# 2) saves mapped index values\n",
    "# 3) saves mapped edgelist to 'edges.csv'\n",
    "import pandas as pd\n",
    "import time\n",
    "from fun.fun import *\n",
    "import csv"
   ]
  },
  {
   "cell_type": "code",
   "execution_count": 2,
   "metadata": {},
   "outputs": [],
   "source": [
    "# Variables\n",
    "edges_fn = \"../data/edgelist_ids.csv\"\n",
    "edges_total = 684_732_453 # hardcoded"
   ]
  },
  {
   "cell_type": "code",
   "execution_count": 3,
   "metadata": {},
   "outputs": [
    {
     "name": "stdout",
     "output_type": "stream",
     "text": [
      "reading edges ... read 684_732_453 lines (took 340.8s)\n"
     ]
    }
   ],
   "source": [
    "# -> IN : Read edges to dataframe\n",
    "perc = 100\n",
    "nrows=int(edges_total*perc/100)\n",
    "print(\"reading edges ... \", end='')\n",
    "start = time.time()\n",
    "df = pd.read_csv(edges_fn, nrows=nrows)\n",
    "end = time.time()\n",
    "print(\"read {:_} lines (took {:.1f}s)\".format(len(df), (end-start)))"
   ]
  },
  {
   "cell_type": "code",
   "execution_count": 4,
   "metadata": {},
   "outputs": [
    {
     "name": "stdout",
     "output_type": "stream",
     "text": [
      "Found 410_885 unique nodes\n",
      "sorting ... done (took 0.2s)\n"
     ]
    }
   ],
   "source": [
    "# DICT : get unique nodes sorted\n",
    "nodes = set(df['source']).union(set(df['target']))\n",
    "print(\"Found {:_} unique nodes\".format(len(nodes)))\n",
    "print(\"sorting ... \", end='')\n",
    "start = time.time()\n",
    "nodes = sorted(nodes)\n",
    "end = time.time()\n",
    "print(\"done (took {:.1f}s)\".format(end-start))\n",
    "node_index = { node: i for i, node in enumerate(nodes) }"
   ]
  },
  {
   "cell_type": "code",
   "execution_count": null,
   "metadata": {},
   "outputs": [],
   "source": [
    "# <- OUT : write node ids to file\n",
    "file = open(\"../data/node_ids.csv\", 'w', newline='')\n",
    "writer = csv.writer(file)\n",
    "writer.writerow(['index', 'twitter id'])\n",
    "for id, i in node_index.items():\n",
    "    writer.writerow([i, id])\n",
    "file.close()"
   ]
  },
  {
   "cell_type": "code",
   "execution_count": 5,
   "metadata": {},
   "outputs": [
    {
     "name": "stdout",
     "output_type": "stream",
     "text": [
      " rows written: 684_732_401/684_732_453 (99.99999%)"
     ]
    }
   ],
   "source": [
    "# <- OUT : Write mapped values to csv\n",
    "fn = \"../data/edges.csv\"\n",
    "file = open(fn, 'w', newline='')\n",
    "writer = csv.writer(file)\n",
    "writer.writerow(['source', 'target'])\n",
    "rows_written, total = 0, len(df)\n",
    "for _, row in df.iterrows():\n",
    "    row = [node_index[row['source']], node_index[row['target']]]\n",
    "    writer.writerow(row)\n",
    "    rows_written, perc = track_progress(total, rows_written, text=\"rows written:\", inc=100)\n",
    "file.close()"
   ]
  }
 ],
 "metadata": {
  "kernelspec": {
   "display_name": "network_env",
   "language": "python",
   "name": "python3"
  },
  "language_info": {
   "codemirror_mode": {
    "name": "ipython",
    "version": 3
   },
   "file_extension": ".py",
   "mimetype": "text/x-python",
   "name": "python",
   "nbconvert_exporter": "python",
   "pygments_lexer": "ipython3",
   "version": "3.12.2"
  }
 },
 "nbformat": 4,
 "nbformat_minor": 2
}
