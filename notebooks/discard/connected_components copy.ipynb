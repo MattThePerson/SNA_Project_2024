{
 "cells": [
  {
   "cell_type": "code",
   "execution_count": 1,
   "metadata": {},
   "outputs": [],
   "source": [
    "# Doesnt seem to work\n",
    "import pandas as pd\n",
    "import numpy as np\n",
    "import time\n",
    "\n",
    "pd.set_option('display.width', 500)"
   ]
  },
  {
   "cell_type": "code",
   "execution_count": 2,
   "metadata": {},
   "outputs": [],
   "source": [
    "def track_progess(total, progress, text='progress:', inc=1):\n",
    "    a, b = progress, total\n",
    "    perc = ((a+1) / b * 100)\n",
    "    if a%inc == 0:\n",
    "        print(\"\\r {} {:_}/{:_} ({:.5f}%)\".format( text, (a+1), b, perc ), end='')\n",
    "    a += 1\n",
    "    return a, perc"
   ]
  },
  {
   "cell_type": "code",
   "execution_count": 3,
   "metadata": {},
   "outputs": [],
   "source": [
    "class UnionFind:\n",
    "    def __init__(self, n):\n",
    "        self.parent = [i for i in range(n)]\n",
    "        self.rank = [0] * n\n",
    "        self.size = [1] * n\n",
    "\n",
    "    def find(self, u):\n",
    "        if self.parent[u] != u:\n",
    "            self.parent[u] = self.find(self.parent[u])\n",
    "        return self.parent[u]\n",
    "\n",
    "    def union(self, u, v):\n",
    "        pu, pv = self.find(u), self.find(v)\n",
    "        if pu == pv:\n",
    "            return\n",
    "        if self.rank[pu] < self.rank[pv]:\n",
    "            self.parent[pu] = pv\n",
    "            self.size[pv] += self.size[pu]\n",
    "        elif self.rank[pv] < self.rank[pu]:\n",
    "            self.parent[pv] = pu\n",
    "            self.size[pu] += self.size[pv]\n",
    "        else:\n",
    "            self.parent[pu] = pv\n",
    "            self.rank[pv] += 1\n",
    "            self.size[pv] += self.size[pu]"
   ]
  },
  {
   "cell_type": "code",
   "execution_count": 4,
   "metadata": {},
   "outputs": [],
   "source": [
    "def initialize_unionfind(edges):\n",
    "    print(\"Initializing UnionFind data structure ...\")\n",
    "    nodes = set(edges['source']).union(set(edges['target']))\n",
    "    node_index = {node: i for i, node in enumerate(nodes)}\n",
    "    n = len(nodes)\n",
    "    uf = UnionFind(n)\n",
    "    print(\"Computing union of all edges ...\")\n",
    "    for _, row in edges.iterrows():\n",
    "        uf.union(node_index[row['source']], node_index[row['target']])\n",
    "    print(\"Done.\")\n",
    "    return uf, node_index"
   ]
  },
  {
   "cell_type": "code",
   "execution_count": 5,
   "metadata": {},
   "outputs": [],
   "source": [
    "def get_connected_component(uf, node_index, n=0):\n",
    "    comps = {}\n",
    "    for node, i in node_index.items():\n",
    "        parent = uf.find(i)\n",
    "        comps[parent] = comps.get(parent, []) + [node]\n",
    "    if n >= len(comps):\n",
    "        return []\n",
    "    keys_sorted = sorted( comps.keys(), reverse=True, key=lambda parent: len(comps[parent]) )\n",
    "    return comps[keys_sorted[n]]"
   ]
  },
  {
   "cell_type": "code",
   "execution_count": 6,
   "metadata": {},
   "outputs": [],
   "source": [
    "def get_amount_of_components(uf, node_index):\n",
    "    # Count unique parents\n",
    "    unique_parents = set()\n",
    "    for i in range(len(node_index)):\n",
    "        unique_parents.add(uf.find(i))\n",
    "    return len(unique_parents)"
   ]
  },
  {
   "cell_type": "code",
   "execution_count": 7,
   "metadata": {},
   "outputs": [
    {
     "name": "stdout",
     "output_type": "stream",
     "text": [
      "read 11 lines\n"
     ]
    }
   ],
   "source": [
    "# Read test DF\n",
    "edges_fn = \"../data/edges_test.csv\"\n",
    "# Read edge list to df\n",
    "df = pd.read_csv(edges_fn)\n",
    "print(\"read {:_} lines\".format(len(df)))"
   ]
  },
  {
   "cell_type": "code",
   "execution_count": 16,
   "metadata": {},
   "outputs": [
    {
     "name": "stdout",
     "output_type": "stream",
     "text": [
      "read 684_732 lines\n"
     ]
    }
   ],
   "source": [
    "# READ REAL DF\n",
    "edges_fn = \"../data/edges.csv\"\n",
    "edges_total = 684_732_453 # hardcoded\n",
    "\n",
    "# Read edge list to df\n",
    "perc = 0.1\n",
    "nrows=int(edges_total*perc/100)\n",
    "df = pd.read_csv(edges_fn, nrows=nrows)\n",
    "print(\"read {:_} lines\".format(len(df)))"
   ]
  },
  {
   "cell_type": "code",
   "execution_count": null,
   "metadata": {},
   "outputs": [],
   "source": [
    "# Initialize union find\n",
    "uf, node_index = initialize_unionfind(df)\n",
    "# Get nth largest connected component\n",
    "cc_n = get_amount_of_components(uf, node_index)\n",
    "print(\"Found {} connected components:\".format(cc_n))\n",
    "for i in range(cc_n):\n",
    "    component = get_connected_component(uf, node_index, i)\n",
    "    print(\"  component {} has {:_} nodes\".format(i+1, len(component)))"
   ]
  },
  {
   "cell_type": "code",
   "execution_count": null,
   "metadata": {},
   "outputs": [],
   "source": [
    "# Get edgelist of connected component\n",
    "dfcc = df[ (df['source'].isin(component)) & (df['target'].isin(component)) ]\n",
    "print(\"{:_} / {:_}\".format(len(dfcc), len(df)))"
   ]
  },
  {
   "cell_type": "code",
   "execution_count": null,
   "metadata": {},
   "outputs": [],
   "source": [
    "# Save new edges to file\n",
    "dfcc.to_csv(\"../data/edges_cc_test.csv\", encoding='utf-8', index=False)"
   ]
  },
  {
   "cell_type": "code",
   "execution_count": 17,
   "metadata": {},
   "outputs": [
    {
     "name": "stdout",
     "output_type": "stream",
     "text": [
      "3_604\n"
     ]
    },
    {
     "data": {
      "text/html": [
       "<div>\n",
       "<style scoped>\n",
       "    .dataframe tbody tr th:only-of-type {\n",
       "        vertical-align: middle;\n",
       "    }\n",
       "\n",
       "    .dataframe tbody tr th {\n",
       "        vertical-align: top;\n",
       "    }\n",
       "\n",
       "    .dataframe thead th {\n",
       "        text-align: right;\n",
       "    }\n",
       "</style>\n",
       "<table border=\"1\" class=\"dataframe\">\n",
       "  <thead>\n",
       "    <tr style=\"text-align: right;\">\n",
       "      <th></th>\n",
       "      <th>group</th>\n",
       "      <th>edges</th>\n",
       "    </tr>\n",
       "  </thead>\n",
       "  <tbody>\n",
       "    <tr>\n",
       "      <th>1223990883445440512</th>\n",
       "      <td>NaN</td>\n",
       "      <td>[]</td>\n",
       "    </tr>\n",
       "    <tr>\n",
       "      <th>1210026400050102273</th>\n",
       "      <td>NaN</td>\n",
       "      <td>[]</td>\n",
       "    </tr>\n",
       "    <tr>\n",
       "      <th>1219608740665622530</th>\n",
       "      <td>NaN</td>\n",
       "      <td>[]</td>\n",
       "    </tr>\n",
       "    <tr>\n",
       "      <th>1233841536657391619</th>\n",
       "      <td>NaN</td>\n",
       "      <td>[]</td>\n",
       "    </tr>\n",
       "    <tr>\n",
       "      <th>1200999260000419842</th>\n",
       "      <td>NaN</td>\n",
       "      <td>[]</td>\n",
       "    </tr>\n",
       "  </tbody>\n",
       "</table>\n",
       "</div>"
      ],
      "text/plain": [
       "                    group edges\n",
       "1223990883445440512   NaN    []\n",
       "1210026400050102273   NaN    []\n",
       "1219608740665622530   NaN    []\n",
       "1233841536657391619   NaN    []\n",
       "1200999260000419842   NaN    []"
      ]
     },
     "execution_count": 17,
     "metadata": {},
     "output_type": "execute_result"
    }
   ],
   "source": [
    "# Get set of all nodes\n",
    "nodes = set(df['source']).union(set(df['target']))\n",
    "g = pd.DataFrame(index=list(nodes), columns=['group'])\n",
    "g['edges'] = np.nan\n",
    "g['edges'] = g['edges'].apply(lambda x: [])\n",
    "print(\"{:_}\".format(len(nodes)))\n",
    "g.head()"
   ]
  },
  {
   "cell_type": "code",
   "execution_count": 18,
   "metadata": {},
   "outputs": [
    {
     "name": "stdout",
     "output_type": "stream",
     "text": [
      " progress: 3_601/3_604 (99.91676%)"
     ]
    },
    {
     "data": {
      "text/html": [
       "<div>\n",
       "<style scoped>\n",
       "    .dataframe tbody tr th:only-of-type {\n",
       "        vertical-align: middle;\n",
       "    }\n",
       "\n",
       "    .dataframe tbody tr th {\n",
       "        vertical-align: top;\n",
       "    }\n",
       "\n",
       "    .dataframe thead th {\n",
       "        text-align: right;\n",
       "    }\n",
       "</style>\n",
       "<table border=\"1\" class=\"dataframe\">\n",
       "  <thead>\n",
       "    <tr style=\"text-align: right;\">\n",
       "      <th></th>\n",
       "      <th>group</th>\n",
       "      <th>edges</th>\n",
       "    </tr>\n",
       "  </thead>\n",
       "  <tbody>\n",
       "    <tr>\n",
       "      <th>1223990883445440512</th>\n",
       "      <td>NaN</td>\n",
       "      <td>[1200988481075449856, 1201414396175507456, 120...</td>\n",
       "    </tr>\n",
       "    <tr>\n",
       "      <th>1210026400050102273</th>\n",
       "      <td>NaN</td>\n",
       "      <td>[1200988481075449856, 1201414396175507456, 120...</td>\n",
       "    </tr>\n",
       "    <tr>\n",
       "      <th>1219608740665622530</th>\n",
       "      <td>NaN</td>\n",
       "      <td>[1204258038665760768, 1200928806757752833, 120...</td>\n",
       "    </tr>\n",
       "    <tr>\n",
       "      <th>1233841536657391619</th>\n",
       "      <td>NaN</td>\n",
       "      <td>[1211311170025598976, 1200948819015454721, 120...</td>\n",
       "    </tr>\n",
       "    <tr>\n",
       "      <th>1200999260000419842</th>\n",
       "      <td>NaN</td>\n",
       "      <td>[1201235846084595712, 1200968563617460225, 120...</td>\n",
       "    </tr>\n",
       "  </tbody>\n",
       "</table>\n",
       "</div>"
      ],
      "text/plain": [
       "                    group                                              edges\n",
       "1223990883445440512   NaN  [1200988481075449856, 1201414396175507456, 120...\n",
       "1210026400050102273   NaN  [1200988481075449856, 1201414396175507456, 120...\n",
       "1219608740665622530   NaN  [1204258038665760768, 1200928806757752833, 120...\n",
       "1233841536657391619   NaN  [1211311170025598976, 1200948819015454721, 120...\n",
       "1200999260000419842   NaN  [1201235846084595712, 1200968563617460225, 120..."
      ]
     },
     "execution_count": 18,
     "metadata": {},
     "output_type": "execute_result"
    }
   ],
   "source": [
    "# Generate edges for each\n",
    "nodes_handled, total = 0, len(nodes)\n",
    "for node, row in g.iterrows():\n",
    "    edges = df[(df['source'] == node) | (df['target'] == node)]\n",
    "    neighbors = set(edges['source']).union(set(edges['target']))\n",
    "    neighbors.remove(node)\n",
    "    for n in neighbors:\n",
    "        g.loc[node, 'edges'].append(n)\n",
    "    nodes_handled, perc = track_progess(total, nodes_handled, text='progress:', inc=10)\n",
    "g.head()"
   ]
  },
  {
   "cell_type": "code",
   "execution_count": 19,
   "metadata": {},
   "outputs": [
    {
     "name": "stdout",
     "output_type": "stream",
     "text": [
      " progress: 3_601/3_604 (99.91676%)"
     ]
    },
    {
     "data": {
      "text/html": [
       "<div>\n",
       "<style scoped>\n",
       "    .dataframe tbody tr th:only-of-type {\n",
       "        vertical-align: middle;\n",
       "    }\n",
       "\n",
       "    .dataframe tbody tr th {\n",
       "        vertical-align: top;\n",
       "    }\n",
       "\n",
       "    .dataframe thead th {\n",
       "        text-align: right;\n",
       "    }\n",
       "</style>\n",
       "<table border=\"1\" class=\"dataframe\">\n",
       "  <thead>\n",
       "    <tr style=\"text-align: right;\">\n",
       "      <th></th>\n",
       "      <th>group</th>\n",
       "      <th>edges</th>\n",
       "    </tr>\n",
       "  </thead>\n",
       "  <tbody>\n",
       "    <tr>\n",
       "      <th>1223990883445440512</th>\n",
       "      <td>1</td>\n",
       "      <td>[1200988481075449856, 1201414396175507456, 120...</td>\n",
       "    </tr>\n",
       "    <tr>\n",
       "      <th>1210026400050102273</th>\n",
       "      <td>1</td>\n",
       "      <td>[1200988481075449856, 1201414396175507456, 120...</td>\n",
       "    </tr>\n",
       "    <tr>\n",
       "      <th>1219608740665622530</th>\n",
       "      <td>3</td>\n",
       "      <td>[1204258038665760768, 1200928806757752833, 120...</td>\n",
       "    </tr>\n",
       "    <tr>\n",
       "      <th>1233841536657391619</th>\n",
       "      <td>1</td>\n",
       "      <td>[1211311170025598976, 1200948819015454721, 120...</td>\n",
       "    </tr>\n",
       "    <tr>\n",
       "      <th>1200999260000419842</th>\n",
       "      <td>5</td>\n",
       "      <td>[1201235846084595712, 1200968563617460225, 120...</td>\n",
       "    </tr>\n",
       "    <tr>\n",
       "      <th>1226161512689041413</th>\n",
       "      <td>1</td>\n",
       "      <td>[1211311170025598976, 1200948819015454721, 120...</td>\n",
       "    </tr>\n",
       "    <tr>\n",
       "      <th>1233768237009076229</th>\n",
       "      <td>1</td>\n",
       "      <td>[1211311170025598976, 1200948819015454721, 120...</td>\n",
       "    </tr>\n",
       "    <tr>\n",
       "      <th>1211509858425438213</th>\n",
       "      <td>1</td>\n",
       "      <td>[1200988481075449856, 1201414396175507456, 120...</td>\n",
       "    </tr>\n",
       "    <tr>\n",
       "      <th>1227804762973798406</th>\n",
       "      <td>1</td>\n",
       "      <td>[1211311170025598976, 1200948819015454721, 120...</td>\n",
       "    </tr>\n",
       "    <tr>\n",
       "      <th>1222555375980838918</th>\n",
       "      <td>10</td>\n",
       "      <td>[1200982015933214720, 1204247272449462272, 121...</td>\n",
       "    </tr>\n",
       "    <tr>\n",
       "      <th>1208756016726212614</th>\n",
       "      <td>1</td>\n",
       "      <td>[1200988481075449856, 1201414396175507456, 120...</td>\n",
       "    </tr>\n",
       "    <tr>\n",
       "      <th>1233540175894020105</th>\n",
       "      <td>1</td>\n",
       "      <td>[1211311170025598976, 1200948819015454721, 120...</td>\n",
       "    </tr>\n",
       "  </tbody>\n",
       "</table>\n",
       "</div>"
      ],
      "text/plain": [
       "                    group                                              edges\n",
       "1223990883445440512     1  [1200988481075449856, 1201414396175507456, 120...\n",
       "1210026400050102273     1  [1200988481075449856, 1201414396175507456, 120...\n",
       "1219608740665622530     3  [1204258038665760768, 1200928806757752833, 120...\n",
       "1233841536657391619     1  [1211311170025598976, 1200948819015454721, 120...\n",
       "1200999260000419842     5  [1201235846084595712, 1200968563617460225, 120...\n",
       "1226161512689041413     1  [1211311170025598976, 1200948819015454721, 120...\n",
       "1233768237009076229     1  [1211311170025598976, 1200948819015454721, 120...\n",
       "1211509858425438213     1  [1200988481075449856, 1201414396175507456, 120...\n",
       "1227804762973798406     1  [1211311170025598976, 1200948819015454721, 120...\n",
       "1222555375980838918    10  [1200982015933214720, 1204247272449462272, 121...\n",
       "1208756016726212614     1  [1200988481075449856, 1201414396175507456, 120...\n",
       "1233540175894020105     1  [1211311170025598976, 1200948819015454721, 120..."
      ]
     },
     "execution_count": 19,
     "metadata": {},
     "output_type": "execute_result"
    }
   ],
   "source": [
    "# \n",
    "current_group = 0\n",
    "for node, row in g.iterrows():\n",
    "    if pd.isna(row['group']):\n",
    "        current_group += 1\n",
    "        queue = [node]\n",
    "        while queue != []:\n",
    "            current = queue.pop(0)\n",
    "            if pd.isna(g.loc[current, 'group']):\n",
    "                g.loc[current, 'group'] = current_group\n",
    "                for nei in g.loc[current, 'edges']:\n",
    "                    queue.append(nei)\n",
    "g.head(12)"
   ]
  },
  {
   "cell_type": "code",
   "execution_count": 20,
   "metadata": {},
   "outputs": [
    {
     "name": "stdout",
     "output_type": "stream",
     "text": [
      "{1, 67, 3, 5, 10, 819, 181}\n"
     ]
    }
   ],
   "source": [
    "n = set(g['group'])\n",
    "print(n)"
   ]
  },
  {
   "cell_type": "code",
   "execution_count": 8,
   "metadata": {},
   "outputs": [
    {
     "name": "stdout",
     "output_type": "stream",
     "text": [
      "Graph with 12 nodes and 11 edges\n"
     ]
    },
    {
     "data": {
      "image/png": "[encoded data removed]",
      "text/plain": [
       "<Figure size 640x480 with 1 Axes>"
      ]
     },
     "metadata": {},
     "output_type": "display_data"
    }
   ],
   "source": [
    "import networkx as nx\n",
    "import matplotlib.pyplot as plt\n",
    "g = nx.from_pandas_edgelist(df, source='source', target='target')\n",
    "print(g)\n",
    "nx.draw_networkx(g)\n",
    "plt.show()"
   ]
  }
 ],
 "metadata": {
  "kernelspec": {
   "display_name": "network_env",
   "language": "python",
   "name": "python3"
  },
  "language_info": {
   "codemirror_mode": {
    "name": "ipython",
    "version": 3
   },
   "file_extension": ".py",
   "mimetype": "text/x-python",
   "name": "python",
   "nbconvert_exporter": "python",
   "pygments_lexer": "ipython3",
   "version": "3.12.2"
  }
 },
 "nbformat": 4,
 "nbformat_minor": 2
}
