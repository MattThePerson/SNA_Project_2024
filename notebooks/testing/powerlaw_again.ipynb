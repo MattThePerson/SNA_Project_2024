{
 "cells": [
  {
   "cell_type": "code",
   "execution_count": 1,
   "metadata": {},
   "outputs": [],
   "source": [
    "import powerlaw\n",
    "import networkx as nx\n",
    "import numpy as np\n",
    "import matplotlib.pyplot as plt"
   ]
  },
  {
   "cell_type": "code",
   "execution_count": 3,
   "metadata": {},
   "outputs": [
    {
     "name": "stdout",
     "output_type": "stream",
     "text": [
      "Graph with 4039 nodes and 88234 edges\n"
     ]
    }
   ],
   "source": [
    "# Load the eggo-Facebook dataset, available at https://snap.stanford.edu/data/ego-Facebook.html\n",
    "ego_fb_edges_fn = \"../../data_shared/facebook_combined.txt\"\n",
    "with open(ego_fb_edges_fn, \"r\") as file:\n",
    "    lines = [ line.strip().split(\" \") for line in file.readlines() ]\n",
    "    edges = [ (int(n1), int(n2)) for (n1, n2) in lines ]\n",
    "g2 = nx.Graph(edges)\n",
    "print(g2)\n",
    "degree_cent = nx.degree_centrality(g2)\n",
    "values = list(degree_cent.values())"
   ]
  },
  {
   "cell_type": "code",
   "execution_count": 4,
   "metadata": {},
   "outputs": [],
   "source": [
    "def get_histogram(values, increments=50, cumulative=False):\n",
    "    vMin, vMax = min(values), max(values)\n",
    "    inc = (vMax-vMin) / increments\n",
    "    bins = [vMin + i*inc for i in range(increments)]\n",
    "    if not cumulative:\n",
    "        return [ len([v for v in values if bin <= v and v < (bin+inc)]) for bin in bins ], bins\n",
    "    else:\n",
    "        return [ len([v for v in values if v < (bin+inc)]) for bin in bins ], bins"
   ]
  },
  {
   "cell_type": "code",
   "execution_count": null,
   "metadata": {},
   "outputs": [],
   "source": [
    "increments=50\n",
    "v_min, v_max = min(values), max(values)\n",
    "inc = (v_max - v_min) / increments\n",
    "X = np.logspace(np.log10(v_min), np.log10(v_max), increments) # generate log distributed x values\n",
    "#X = [v_min + i*inc for i in range(increments)]\n",
    "Y = [ len([v for v in values if X[i] <= v and v < X[i+1]])+1 for i in range(len(X)-1) ]\n",
    "lnX, lnY = np.log(X), np.log(Y)"
   ]
  },
  {
   "cell_type": "code",
   "execution_count": null,
   "metadata": {},
   "outputs": [],
   "source": [
    "plt.plot(X[:49], Y)\n",
    "plt.show()"
   ]
  },
  {
   "cell_type": "code",
   "execution_count": null,
   "metadata": {},
   "outputs": [],
   "source": [
    "hist_values, bins = get_histogram(values, increments=100, cumulative=False)\n",
    "plt.hist(values, bins=len(bins))\n",
    "plt.plot(bins, hist_values, 'r.')\n",
    "plt.show()"
   ]
  },
  {
   "cell_type": "code",
   "execution_count": null,
   "metadata": {},
   "outputs": [],
   "source": [
    "# power law analysis\n",
    "results = powerlaw.Fit(hist_values)\n",
    "R, p = results.distribution_compare('power_law', 'lognormal')"
   ]
  },
  {
   "cell_type": "code",
   "execution_count": null,
   "metadata": {},
   "outputs": [],
   "source": [
    "print(\"alpha:\", results.power_law.alpha)\n",
    "print(\"xmin:\", results.power_law.xmin)\n",
    "print('R:', R)\n",
    "print('p:', p)"
   ]
  }
 ],
 "metadata": {
  "kernelspec": {
   "display_name": "network_env",
   "language": "python",
   "name": "python3"
  },
  "language_info": {
   "codemirror_mode": {
    "name": "ipython",
    "version": 3
   },
   "file_extension": ".py",
   "mimetype": "text/x-python",
   "name": "python",
   "nbconvert_exporter": "python",
   "pygments_lexer": "ipython3",
   "version": "3.12.2"
  }
 },
 "nbformat": 4,
 "nbformat_minor": 2
}
