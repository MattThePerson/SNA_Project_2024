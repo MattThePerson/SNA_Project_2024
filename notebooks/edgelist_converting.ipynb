{
 "cells": [
  {
   "cell_type": "code",
   "execution_count": 1,
   "metadata": {},
   "outputs": [],
   "source": [
    "# For converting edgelist with twitter ids to edgelist with mapped index values (stored in node_ids.csv)\n",
    "import pandas as pd\n",
    "import time\n",
    "from fun.fun import *\n",
    "import csv"
   ]
  },
  {
   "cell_type": "code",
   "execution_count": 2,
   "metadata": {},
   "outputs": [],
   "source": [
    "# Variables\n",
    "edges_fn = \"../data/edgelist_ids.csv\"\n",
    "edges_total = 684_732_453 # hardcoded"
   ]
  },
  {
   "cell_type": "code",
   "execution_count": 3,
   "metadata": {},
   "outputs": [
    {
     "name": "stdout",
     "output_type": "stream",
     "text": [
      "reading edges ... read 684_732_453 lines (took 340.8s)\n"
     ]
    }
   ],
   "source": [
    "# Read edges to dataframe\n",
    "perc = 100\n",
    "nrows=int(edges_total*perc/100)\n",
    "print(\"reading edges ... \", end='')\n",
    "start = time.time()\n",
    "df = pd.read_csv(edges_fn, nrows=nrows)\n",
    "end = time.time()\n",
    "print(\"read {:_} lines (took {:.1f}s)\".format(len(df), (end-start)))"
   ]
  },
  {
   "cell_type": "code",
   "execution_count": 4,
   "metadata": {},
   "outputs": [
    {
     "name": "stdout",
     "output_type": "stream",
     "text": [
      "Found 410_885 unique nodes\n",
      "sorting ... done (took 0.2s)\n"
     ]
    }
   ],
   "source": [
    "# get unique nodes sorted\n",
    "nodes = set(df['source']).union(set(df['target']))\n",
    "print(\"Found {:_} unique nodes\".format(len(nodes)))\n",
    "print(\"sorting ... \", end='')\n",
    "start = time.time()\n",
    "nodes = sorted(nodes)\n",
    "end = time.time()\n",
    "print(\"done (took {:.1f}s)\".format(end-start))\n",
    "node_index = { node: i for i, node in enumerate(nodes) }"
   ]
  },
  {
   "cell_type": "code",
   "execution_count": 5,
   "metadata": {},
   "outputs": [
    {
     "name": "stdout",
     "output_type": "stream",
     "text": [
      " rows written: 684_732_401/684_732_453 (99.99999%)"
     ]
    }
   ],
   "source": [
    "# Write mapped values to csv\n",
    "fn = \"../data/edges.csv\"\n",
    "file = open(fn, 'w', newline='')\n",
    "writer = csv.writer(file)\n",
    "writer.writerow(['source', 'target'])\n",
    "rows_written, total = 0, len(df)\n",
    "for _, row in df.iterrows():\n",
    "    row = [node_index[row['source']], node_index[row['target']]]\n",
    "    writer.writerow(row)\n",
    "    rows_written, perc = track_progress(total, rows_written, text=\"rows written:\", inc=100)\n",
    "file.close()"
   ]
  },
  {
   "cell_type": "code",
   "execution_count": null,
   "metadata": {},
   "outputs": [],
   "source": [
    "# map values pandas efficient\n",
    "print('mapping source column ... ', end='')\n",
    "start = time.time()\n",
    "df['source'] = df['source'].apply(lambda x: node_index[x])\n",
    "end = time.time()\n",
    "print('done (took {:.1f} seconds)'.format(end-start))\n",
    "print('mapping target column ... ', end='')\n",
    "start = time.time()\n",
    "df['target'] = df['target'].apply(lambda x: node_index[x])\n",
    "end = time.time()\n",
    "print('done (took {:.1f} seconds)'.format(end-start))"
   ]
  },
  {
   "cell_type": "code",
   "execution_count": null,
   "metadata": {},
   "outputs": [],
   "source": [
    "# Write to csv\n",
    "fn = \"../data/edges.csv\"\n",
    "print(\"writing to csv ... \", end='')\n",
    "start = time.time()\n",
    "df.to_csv(fn, index=False)\n",
    "end = time.time()\n",
    "print('done (took {:.1f} seconds)'.format(end-start))"
   ]
  },
  {
   "cell_type": "code",
   "execution_count": null,
   "metadata": {},
   "outputs": [],
   "source": [
    "# map values iteratively\n",
    "done, total = 0, len(df)\n",
    "for i, row in df.iterrows():\n",
    "    df.loc[i, 'source'] = node_index[row['source']]\n",
    "    df.loc[i, 'target'] = node_index[row['target']]\n",
    "    done, perc = track_progress(total, done, inc=25)"
   ]
  },
  {
   "cell_type": "code",
   "execution_count": null,
   "metadata": {},
   "outputs": [],
   "source": [
    "# Write to csv\n",
    "fn = \"../data/edges.csv\"\n",
    "df.to_csv(fn, index=False)"
   ]
  },
  {
   "cell_type": "code",
   "execution_count": null,
   "metadata": {},
   "outputs": [],
   "source": [
    "# write node ids to file\n",
    "file = open(\"../data/node_ids.csv\", 'w', newline='')\n",
    "writer = csv.writer(file)\n",
    "writer.writerow(['index', 'twitter id'])\n",
    "for id, i in node_index.items():\n",
    "    writer.writerow([i, id])\n",
    "file.close()"
   ]
  }
 ],
 "metadata": {
  "kernelspec": {
   "display_name": "network_env",
   "language": "python",
   "name": "python3"
  },
  "language_info": {
   "codemirror_mode": {
    "name": "ipython",
    "version": 3
   },
   "file_extension": ".py",
   "mimetype": "text/x-python",
   "name": "python",
   "nbconvert_exporter": "python",
   "pygments_lexer": "ipython3",
   "version": "3.12.2"
  }
 },
 "nbformat": 4,
 "nbformat_minor": 2
}
