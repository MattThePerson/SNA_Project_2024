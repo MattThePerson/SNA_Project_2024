{
 "cells": [
  {
   "cell_type": "code",
   "execution_count": 1,
   "metadata": {},
   "outputs": [],
   "source": [
    "import pandas as pd\n",
    "import numpy as np\n",
    "import matplotlib.pyplot as plt\n",
    "pd.set_option('display.width', 500)"
   ]
  },
  {
   "cell_type": "code",
   "execution_count": 2,
   "metadata": {},
   "outputs": [],
   "source": [
    "def show_distribution(values, one_width_bins=False):\n",
    "    values = np.array(values)\n",
    "    if one_width_bins:  bins = range(min(values), max(values) + 1, 1)\n",
    "    else:               bins = 25\n",
    "    print(\"\\nSTATS:\")\n",
    "    print(\"max: {:_}\".format(max(values)))\n",
    "    print(\"mean: {:.2f}\".format(np.mean(values)))\n",
    "    fig, ax = plt.subplots(ncols=2, figsize=(10,4))\n",
    "    ax[0].hist(values, bins=bins)\n",
    "    ax[0].set_title('Histogram of amount of mentions per tweet')\n",
    "    ax[1].hist(values, log=True, bins=bins)\n",
    "    ax[1].set_title('Logarithmic Histogram of amount of mentions per tweet')\n",
    "    plt.show()"
   ]
  },
  {
   "cell_type": "code",
   "execution_count": 3,
   "metadata": {},
   "outputs": [],
   "source": [
    "# COLUMNS:\n",
    "# Lines (tweets): 8_151_524\n",
    "dataset_fn = \"dataset/TweetsCOV19.tsv\"\n",
    "header = [\"Tweet Id\", \"Username\", \"Timestamp\", \"Followers\", \"Friends\", \"Retweets\", \"Favorites\", \"Entities\", \"Sentiment\", \"Mentions\", \"Hashtags\", \"URLs\", \"EXTRA\"]\n",
    "dtype = {\"Tweet Id\":int, \"Username\":\"string\", \"Timestamp\":\"string\", \"Followers\":int, \"Friends\":int, \"Retweets\":int, \"Favorites\":int, \"Entities\":\"string\", \"Sentiment\":\"string\", \"Mentions\":\"string\", \"Hashtags\":\"string\", \"URLs\":\"string\", \"EXTRA\":\"string\"}"
   ]
  },
  {
   "cell_type": "code",
   "execution_count": 4,
   "metadata": {},
   "outputs": [
    {
     "name": "stdout",
     "output_type": "stream",
     "text": [
      "(8077794, 13)\n",
      "     Tweet Id                          Username                       Timestamp  Followers  Friends  Retweets  Favorites                                           Entities Sentiment Mentions Hashtags                                               URLs EXTRA\n",
      "0 -1755922431  35234fe4a19cc1a3336095fb3780bcc1  Mon Sep 30 22:00:37 +0000 2019        619      770         0          0                                              null;      2 -1    null;    null;                                              null;  <NA>\n",
      "1 -1605079040  ea4592f39636d87af8fb4b17b7e2e4c0  Mon Sep 30 22:01:24 +0000 2019      36365    19344        13         17  nazi:Nazism:-2.742538749414189;blood money:Blo...      1 -4    null;    null;  https://twitter.com/himalayahawk/status/117766...  <NA>\n",
      "2 -2028564480  bf05d1888dd974fa4a8679c25e2ead03  Mon Sep 30 22:06:21 +0000 2019       5018     1933         0          0  vaccine:Vaccine:-2.6651530673745762;anti vaxxe...      2 -1    null;    null;                        https://goo.gl/fb/uoeiPk:-:  <NA>\n",
      "3 -1370046464  eb8a99bca8945eab1d006750e9b75518  Mon Sep 30 22:14:04 +0000 2019       2219      971         0          0  muse:Muse_%28band%29:-2.1677823918620867;talki...      2 -1    null;    null;                                              null;  <NA>\n",
      "4   588730368  00695cf79d60e86a5d0f872f4358337a  Mon Sep 30 22:26:32 +0000 2019       9009     4943        26         89  people of northern ireland:People_of_Northern_...      2 -1    null;      VFS                                              null;  <NA>\n"
     ]
    }
   ],
   "source": [
    "df = pd.read_csv(dataset_fn, sep='\\t', names=header, on_bad_lines='warn', dtype=dtype)\n",
    "# on_bad_lines='warn'\n",
    "print(df.shape)\n",
    "print(df.head())"
   ]
  },
  {
   "cell_type": "code",
   "execution_count": 32,
   "metadata": {},
   "outputs": [
    {
     "name": "stderr",
     "output_type": "stream",
     "text": [
      "C:\\Users\\stirl\\AppData\\Local\\Temp\\ipykernel_13004\\1051261403.py:3: UserWarning: Could not infer format, so each element will be parsed individually, falling back to `dateutil`. To ensure parsing is consistent and as-expected, please specify a format.\n",
      "  dff2['Timestamp_col'] = pd.to_datetime(dff2['Timestamp'])\n"
     ]
    },
    {
     "name": "stdout",
     "output_type": "stream",
     "text": [
      "           Tweet Id                          Username                       Timestamp                       Mentions                              Hashtags  Sentiment_pos  Sentiment_neg             Timestamp_col\n",
      "1779038    68444160  07e378b2566f2701482c0014f9d759be  Wed Jan 01 00:04:26 +0000 2020                     [JoeBiden]                    [GOODBYEDEMOCRATS]              2             -1 2020-01-01 00:04:26+00:00\n",
      "1779042  2102890496  77ba7b7600b41faeeec12b9624305a4f  Wed Jan 01 00:11:32 +0000 2020                             []  [DontDrinkAndDrive, BeHappy, BeSafe]              2             -1 2020-01-01 00:11:32+00:00\n",
      "1779045 -2070433791  bb6480fff41c09ab9089bf0d4920024c  Wed Jan 01 00:26:53 +0000 2020  [BetoORourke, AHouseElPaso!!]       [HappyNewYearsEve, BetoForever]              2             -2 2020-01-01 00:26:53+00:00\n",
      "1779051   118984704  5fd92be8ab0eaa2f77b0ef98d4af361f  Wed Jan 01 00:39:34 +0000 2020                             []         [Trump2020, TakeBackTheHouse]              1             -1 2020-01-01 00:39:34+00:00\n",
      "1779070   357912578  8ec1c325bbfd17ed580aae97dfc4bfb4  Wed Jan 01 01:40:36 +0000 2020                   [DevinNunes]                       [BestOfNunes19]              1             -3 2020-01-01 01:40:36+00:00\n"
     ]
    }
   ],
   "source": [
    "dff2 = df.copy()\n",
    "#dff2['Timestamp_col'] = pd.to_datetime(dff2['Timestamp'], format='%a %b %d %H:%M:%S %Z %Y')\n",
    "dff2['Timestamp_col'] = pd.to_datetime(dff2['Timestamp'])\n",
    "print(dff2.head())"
   ]
  },
  {
   "cell_type": "code",
   "execution_count": 15,
   "metadata": {},
   "outputs": [
    {
     "name": "stdout",
     "output_type": "stream",
     "text": [
      "(3838516, 6)\n"
     ]
    }
   ],
   "source": [
    "# filter dataframe for tweets between Jan 2020 - Mar 2020\n",
    "dff = df[df['Timestamp'].str.endswith(\"2020\") & (df['Timestamp'].str.contains('Jan') | df['Timestamp'].str.contains('Feb')| df['Timestamp'].str.contains('Mar'))]\n",
    "dff = dff[['Tweet Id', 'Username', 'Timestamp', 'Sentiment', 'Mentions', 'Hashtags']]\n",
    "print(dff.shape)"
   ]
  },
  {
   "cell_type": "code",
   "execution_count": 16,
   "metadata": {},
   "outputs": [],
   "source": [
    "# Split mentions tab into array\n",
    "dff['Mentions'] = dff['Mentions'].str.split().apply(lambda x: [name for name in x if name != \"null;\"] if isinstance(x, list) else [])"
   ]
  },
  {
   "cell_type": "code",
   "execution_count": 17,
   "metadata": {},
   "outputs": [],
   "source": [
    "# Split hashtags tab into array\n",
    "dff['Hashtags'] = dff['Hashtags'].str.split().apply(lambda x: [name for name in x if name != \"null;\"] if isinstance(x, list) else [])"
   ]
  },
  {
   "cell_type": "code",
   "execution_count": 19,
   "metadata": {},
   "outputs": [],
   "source": [
    "# Split positive and negative sentiments into own columns (and convert to int type)\n",
    "dff[['Sentiment_pos', 'Sentiment_neg']] = dff['Sentiment'].str.split(\" \", expand=True)\n",
    "dff['Sentiment_pos'], dff['Sentiment_neg'] = dff['Sentiment_pos'].astype(int), dff['Sentiment_neg'].astype(int)\n",
    "dff.drop(\"Sentiment\", axis=1, inplace=True)"
   ]
  },
  {
   "cell_type": "code",
   "execution_count": 20,
   "metadata": {},
   "outputs": [
    {
     "name": "stdout",
     "output_type": "stream",
     "text": [
      "           Tweet Id                          Username                       Timestamp                                           Mentions            Hashtags  Sentiment_pos  Sentiment_neg\n",
      "1779036 -2112565248  5a90aeeb8ef8efdb95f0ecd5e9099be6  Wed Jan 01 00:00:51 +0000 2020                                                 []                  []              2             -2\n",
      "1779037  -904593408  a12a31f3ba8c6a16eeeb5eac1bfa8943  Wed Jan 01 00:02:47 +0000 2020  [Star_Lord_Guy, Coff33Nut, FuckYeahGunz, Tiger...                  []              1             -2\n",
      "1779038    68444160  07e378b2566f2701482c0014f9d759be  Wed Jan 01 00:04:26 +0000 2020                                         [JoeBiden]  [GOODBYEDEMOCRATS]              2             -1\n",
      "1779039   223780866  158175826f96eb940edcb0146ecac364  Wed Jan 01 00:04:44 +0000 2020                                         [PaulNCov]                  []              1             -1\n",
      "1779040 -2116644864  067b938119996c55eb64d1b3827a8bca  Wed Jan 01 00:07:58 +0000 2020                                                 []                  []              1             -1\n"
     ]
    }
   ],
   "source": [
    "print(dff.head(5))"
   ]
  },
  {
   "cell_type": "code",
   "execution_count": 24,
   "metadata": {},
   "outputs": [
    {
     "name": "stdout",
     "output_type": "stream",
     "text": [
      "Extracting amount of mentions ...\n",
      "Sorting ...\n",
      "\n",
      "STATS:\n",
      "max: 51\n",
      "mean: 2.53\n"
     ]
    },
    {
     "data": {
      "image/png": "[encoded data removed]",
      "text/plain": [
       "<Figure size 1000x400 with 2 Axes>"
      ]
     },
     "metadata": {},
     "output_type": "display_data"
    }
   ],
   "source": [
    "# Filter rows with mentions (and fewer that outlier mentions)\n",
    "with_mentions = dff[dff['Mentions'].apply(lambda x: len(x) > 0 and len(x) < 60)]\n",
    "print(with_mentions.shape)\n",
    "\n",
    "# View distribution of amount of mentions per tweet\n",
    "print(\"Extracting amount of mentions ...\")\n",
    "mentions_n = np.array(with_mentions['Mentions'].apply(lambda x: len(set(x))))\n",
    "print(\"Sorting ...\")\n",
    "mentions_n = sorted(mentions_n, reverse=True)\n",
    "\n",
    "show_distribution(mentions_n, one_width_bins=True)"
   ]
  },
  {
   "cell_type": "code",
   "execution_count": 27,
   "metadata": {},
   "outputs": [
    {
     "name": "stdout",
     "output_type": "stream",
     "text": [
      "(1189764, 7)\n"
     ]
    }
   ],
   "source": [
    "# Filter rows with mentions (and less that outlier mentions)\n",
    "with_hashtags = dff[dff['Hashtags'].apply(lambda x: len(x) > 0 and len(x) < 60)]\n",
    "print(with_hashtags.shape)\n",
    "#sel = dff[dff['Hashtags'].apply(lambda x: len(x) > 40)]\n",
    "#print(sel)"
   ]
  },
  {
   "cell_type": "code",
   "execution_count": 29,
   "metadata": {},
   "outputs": [
    {
     "name": "stdout",
     "output_type": "stream",
     "text": [
      "Extracting amount of hashtags ...\n",
      "Sorting ...\n",
      "\n",
      "STATS:\n",
      "max: 34\n",
      "mean: 2.38\n"
     ]
    },
    {
     "data": {
      "image/png": "[encoded data removed]",
      "text/plain": [
       "<Figure size 1000x400 with 2 Axes>"
      ]
     },
     "metadata": {},
     "output_type": "display_data"
    }
   ],
   "source": [
    "# View distribution of amount of hashtags per tweet\n",
    "print(\"Extracting amount of hashtags ...\")\n",
    "hashtags_n = np.array(with_hashtags['Hashtags'].apply(lambda x: len(set(x))))\n",
    "print(\"Sorting ...\")\n",
    "hashtags_n = sorted(hashtags_n, reverse=True)\n",
    "\n",
    "show_distribution(hashtags_n, one_width_bins=True)"
   ]
  },
  {
   "cell_type": "code",
   "execution_count": 30,
   "metadata": {},
   "outputs": [
    {
     "name": "stdout",
     "output_type": "stream",
     "text": [
      "Getting list of ids per hashtag ...\n",
      " 1_189_764/1_189_764 (100.0%)\n",
      "Done.\n",
      "Found 493_230 unique hashtags\n"
     ]
    }
   ],
   "source": [
    "#def create_edges_by_shared_mentions(df, array_col=\"Mentions\", id_col=\"Tweet Id\"):\n",
    "df = with_hashtags\n",
    "array_col, id_col = \"Hashtags\", \"Tweet Id\"\n",
    "dict = {}\n",
    "print(\"Getting list of ids per hashtag ...\")\n",
    "i = 0\n",
    "for _, row in df.iterrows():\n",
    "    i += 1\n",
    "    perc = (i) / len(df) * 100\n",
    "    print(\"\\r {:_}/{:_} ({:.1f}%)\".format(i, len(df), perc), end='')\n",
    "    for mention in set(row[array_col]):\n",
    "        dict[mention] = dict.get(mention, []) + [row[id_col]]\n",
    "print(\"\\nDone.\")\n",
    "print(\"Found {:_} unique hashtags\".format(len(dict)))"
   ]
  },
  {
   "cell_type": "code",
   "execution_count": 33,
   "metadata": {},
   "outputs": [
    {
     "name": "stdout",
     "output_type": "stream",
     "text": [
      "Found 138_289 hashtags with more than 1 associated tweet\n"
     ]
    }
   ],
   "source": [
    "# Filter mentions with more than 1 associated tweet\n",
    "dictf = { k: v for k, v in dict.items() if len(v) > 1 }\n",
    "print(\"Found {:_} hashtags with more than 1 associated tweet\".format(len(dictf)))"
   ]
  },
  {
   "cell_type": "code",
   "execution_count": null,
   "metadata": {},
   "outputs": [],
   "source": [
    "# View most common mentions\n",
    "keys_sorted = sorted(dict.keys(), reverse=True, key=lambda key: len(dict[key]))\n",
    "for i in range(20):\n",
    "    key = keys_sorted[i]\n",
    "    print(\"key: '{}' number of tweets: {:_}\".format(key, len(dict[key])))"
   ]
  },
  {
   "cell_type": "code",
   "execution_count": null,
   "metadata": {},
   "outputs": [],
   "source": [
    "from math import comb\n",
    "print(\"{:_}\".format(comb(64_146,2)))\n",
    "print(\"{:_}\".format(comb(12_753,2)))"
   ]
  },
  {
   "cell_type": "code",
   "execution_count": null,
   "metadata": {},
   "outputs": [],
   "source": [
    "edges_n = sum([ comb(len(v),2) for v in dictf.values() ])\n",
    "print(\"{:_}\".format(edges_n))"
   ]
  },
  {
   "cell_type": "code",
   "execution_count": 34,
   "metadata": {},
   "outputs": [
    {
     "name": "stdout",
     "output_type": "stream",
     "text": [
      "Creating edges ...\n",
      " 139/138_289 (0.101%) edges: 120_426_706\n",
      "Done!\n"
     ]
    }
   ],
   "source": [
    "# Create edges from term : array pairs in dictf\n",
    "print(\"Creating edges ...\")\n",
    "edges_fn = \"data/edges.txt\"\n",
    "with open(edges_fn, 'w') as f:\n",
    "    edges_created = 0\n",
    "    for done, (_, ids) in enumerate(dictf.items()):\n",
    "        perc = (done+1) / len(dictf) * 100\n",
    "        print(\"\\r {:_}/{:_} ({:.3f}%) edges: {:_}\".format(done+1, len(dictf), perc, edges_created), end='')\n",
    "        for i in range(len(ids)):\n",
    "            for j in range(i+1, len(ids)):\n",
    "                line = \"{} {}\\n\".format(ids[i], ids[j])\n",
    "                f.write(line)\n",
    "                edges_created += 1\n",
    "        if perc >= 0.1: break\n",
    "print(\"\\nDone!\")"
   ]
  },
  {
   "cell_type": "code",
   "execution_count": null,
   "metadata": {},
   "outputs": [],
   "source": [
    "import time\n",
    "for i in range(5):\n",
    "    print(\"\\rtesting {}\".format(i), end='')\n",
    "    time.sleep(0.5)\n",
    "print()\n"
   ]
  },
  {
   "cell_type": "code",
   "execution_count": null,
   "metadata": {},
   "outputs": [],
   "source": [
    "a = set()\n",
    "a.add(frozenset((2,1)))\n",
    "#a.add(frozenset((1,2)))\n",
    "a.add(frozenset((1,3)))\n",
    "print(a)"
   ]
  },
  {
   "cell_type": "code",
   "execution_count": null,
   "metadata": {},
   "outputs": [],
   "source": [
    "# Create test dataframe\n",
    "import random\n",
    "df2 = pd.DataFrame()\n",
    "n = 5\n",
    "df2['id'] = [int(random.random()*10000) for _ in range(n)]\n",
    "df2['Mentions'] = [ ['a'], ['b', 'c'], ['a', 'c'], ['b', 'd'], ['e', 'd', 'a'] ]\n",
    "#print(df2)\n",
    "mentions_n = df2['Mentions'].apply(lambda x: len(x))\n",
    "mentions_n = np.array(mentions_n)\n",
    "#mentions_n = np.log(mentions_n)\n",
    "print(type(mentions_n))\n",
    "print(mentions_n)\n",
    "\n",
    "# GET DICT\n",
    "df = df2\n",
    "array_col, id_col = \"Mentions\", \"id\"\n",
    "dict = {}\n",
    "print(\"Getting list of ids per mention ...\")\n",
    "i = 0\n",
    "for _, row in df.iterrows():\n",
    "    i += 1\n",
    "    perc = (i) / len(df) * 100\n",
    "    print(\"\\r {:_}/{:_} ({:.1f}%)\".format(i, len(df), perc), end='')\n",
    "    for mention in set(row[array_col]):\n",
    "        dict[mention] = dict.get(mention, []) + [row[id_col]]\n",
    "print(\"\\nDone.\")\n",
    "print(\"Found {:_} unique mentions\".format(len(dict)))\n",
    "\n",
    "# CREATE AND SAVE EDGES\n",
    "print(\"Creating edges ...\")\n",
    "edges_fn = \"data/edges.txt\"\n",
    "with open(edges_fn, 'w') as f:\n",
    "    \n",
    "    edges = set()\n",
    "    for _, ids in dict.items():\n",
    "        for i in range(len(ids)):\n",
    "            for j in range(i+1, len(ids)):\n",
    "                edge = tuple(sorted((ids[i], ids[j])))\n",
    "                edges.add(edge)\n",
    "print(\"\\nDone!\")"
   ]
  },
  {
   "cell_type": "code",
   "execution_count": null,
   "metadata": {},
   "outputs": [],
   "source": [
    "# Get expected number of edges\n",
    "def get_number_of_edges(df, col):\n",
    "    from math import comb\n",
    "    dict = {}\n",
    "    print(\"iterating rows ...\")\n",
    "    scanned, total = 0, df.shape[0]\n",
    "    for _, row in df.iterrows():\n",
    "        scanned += 1\n",
    "        perc = round(scanned / total * 100, 1)\n",
    "        print(\"\\r {}/{} ({}%)\".format(scanned, total, perc), end='')\n",
    "        for item in set(row[col]):\n",
    "            dict[item] = dict.get(item, 0) + 1\n",
    "        #if perc >= 5: break\n",
    "    print(\"\\nDone.\")\n",
    "    n = sum([ comb(v,2) for v in dict.values() ])\n",
    "    return n\n",
    "\n",
    "number_of_edges = get_number_of_edges(with_hashtags, 'Hashtags')\n",
    "print(f'Expected number of edges: {number_of_edges:_}')"
   ]
  }
 ],
 "metadata": {
  "kernelspec": {
   "display_name": "network_env",
   "language": "python",
   "name": "python3"
  },
  "language_info": {
   "codemirror_mode": {
    "name": "ipython",
    "version": 3
   },
   "file_extension": ".py",
   "mimetype": "text/x-python",
   "name": "python",
   "nbconvert_exporter": "python",
   "pygments_lexer": "ipython3",
   "version": "3.12.2"
  }
 },
 "nbformat": 4,
 "nbformat_minor": 2
}
